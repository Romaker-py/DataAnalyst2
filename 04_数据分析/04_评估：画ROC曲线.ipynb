{
 "cells": [
  {
   "cell_type": "markdown",
   "metadata": {},
   "source": [
    "#### 从数据库导入数据"
   ]
  },
  {
   "cell_type": "code",
   "execution_count": 28,
   "metadata": {
    "scrolled": true
   },
   "outputs": [
    {
     "data": {
      "text/html": [
       "<div>\n",
       "<style scoped>\n",
       "    .dataframe tbody tr th:only-of-type {\n",
       "        vertical-align: middle;\n",
       "    }\n",
       "\n",
       "    .dataframe tbody tr th {\n",
       "        vertical-align: top;\n",
       "    }\n",
       "\n",
       "    .dataframe thead th {\n",
       "        text-align: right;\n",
       "    }\n",
       "</style>\n",
       "<table border=\"1\" class=\"dataframe\">\n",
       "  <thead>\n",
       "    <tr style=\"text-align: right;\">\n",
       "      <th></th>\n",
       "      <th>jobNature</th>\n",
       "      <th>companySize</th>\n",
       "      <th>workYear</th>\n",
       "      <th>education</th>\n",
       "      <th>industryField</th>\n",
       "      <th>thirdType</th>\n",
       "      <th>salaryMin</th>\n",
       "      <th>salaryMax</th>\n",
       "      <th>nameUnfit</th>\n",
       "      <th>positionId</th>\n",
       "      <th>...</th>\n",
       "      <th>financeStage</th>\n",
       "      <th>firstType</th>\n",
       "      <th>secondType</th>\n",
       "      <th>district</th>\n",
       "      <th>salary</th>\n",
       "      <th>resumeProcessRate</th>\n",
       "      <th>resumeProcessDay</th>\n",
       "      <th>score</th>\n",
       "      <th>famousCompany</th>\n",
       "      <th>isFocus</th>\n",
       "    </tr>\n",
       "  </thead>\n",
       "  <tbody>\n",
       "    <tr>\n",
       "      <th>0</th>\n",
       "      <td>全职</td>\n",
       "      <td>500-2000人</td>\n",
       "      <td>1-3年</td>\n",
       "      <td>本科</td>\n",
       "      <td>旅游</td>\n",
       "      <td>数据分析</td>\n",
       "      <td>18</td>\n",
       "      <td>35</td>\n",
       "      <td>0</td>\n",
       "      <td>6112946</td>\n",
       "      <td>...</td>\n",
       "      <td>D轮及以上</td>\n",
       "      <td>开发|测试|运维类</td>\n",
       "      <td>数据开发</td>\n",
       "      <td>福田区</td>\n",
       "      <td>18k-35k</td>\n",
       "      <td>100</td>\n",
       "      <td>1</td>\n",
       "      <td>199</td>\n",
       "      <td>0</td>\n",
       "      <td>1</td>\n",
       "    </tr>\n",
       "    <tr>\n",
       "      <th>1</th>\n",
       "      <td>全职</td>\n",
       "      <td>500-2000人</td>\n",
       "      <td>3-5年</td>\n",
       "      <td>本科</td>\n",
       "      <td>消费生活,移动互联网</td>\n",
       "      <td>商业</td>\n",
       "      <td>15</td>\n",
       "      <td>25</td>\n",
       "      <td>0</td>\n",
       "      <td>6229664</td>\n",
       "      <td>...</td>\n",
       "      <td>C轮</td>\n",
       "      <td>产品|需求|项目类</td>\n",
       "      <td>数据分析</td>\n",
       "      <td>南山区</td>\n",
       "      <td>15k-25k</td>\n",
       "      <td>100</td>\n",
       "      <td>1</td>\n",
       "      <td>179</td>\n",
       "      <td>0</td>\n",
       "      <td>1</td>\n",
       "    </tr>\n",
       "    <tr>\n",
       "      <th>2</th>\n",
       "      <td>全职</td>\n",
       "      <td>2000人以上</td>\n",
       "      <td>5-10年</td>\n",
       "      <td>本科</td>\n",
       "      <td>金融</td>\n",
       "      <td>建模</td>\n",
       "      <td>15</td>\n",
       "      <td>30</td>\n",
       "      <td>0</td>\n",
       "      <td>6853427</td>\n",
       "      <td>...</td>\n",
       "      <td>上市公司</td>\n",
       "      <td>开发|测试|运维类</td>\n",
       "      <td>数据开发</td>\n",
       "      <td>福田区</td>\n",
       "      <td>15k-30k</td>\n",
       "      <td>100</td>\n",
       "      <td>1</td>\n",
       "      <td>130</td>\n",
       "      <td>1</td>\n",
       "      <td>0</td>\n",
       "    </tr>\n",
       "    <tr>\n",
       "      <th>3</th>\n",
       "      <td>全职</td>\n",
       "      <td>2000人以上</td>\n",
       "      <td>1-3年</td>\n",
       "      <td>本科</td>\n",
       "      <td>金融</td>\n",
       "      <td>Hadoop</td>\n",
       "      <td>20</td>\n",
       "      <td>30</td>\n",
       "      <td>0</td>\n",
       "      <td>6692363</td>\n",
       "      <td>...</td>\n",
       "      <td>不需要融资</td>\n",
       "      <td>开发|测试|运维类</td>\n",
       "      <td>数据开发</td>\n",
       "      <td>南山区</td>\n",
       "      <td>20k-30k</td>\n",
       "      <td>100</td>\n",
       "      <td>2</td>\n",
       "      <td>89</td>\n",
       "      <td>0</td>\n",
       "      <td>0</td>\n",
       "    </tr>\n",
       "    <tr>\n",
       "      <th>4</th>\n",
       "      <td>全职</td>\n",
       "      <td>2000人以上</td>\n",
       "      <td>1-3年</td>\n",
       "      <td>大专</td>\n",
       "      <td>移动互联网,游戏</td>\n",
       "      <td>数据分析</td>\n",
       "      <td>8</td>\n",
       "      <td>10</td>\n",
       "      <td>0</td>\n",
       "      <td>6835783</td>\n",
       "      <td>...</td>\n",
       "      <td>不需要融资</td>\n",
       "      <td>产品|需求|项目类</td>\n",
       "      <td>数据分析</td>\n",
       "      <td>南山区</td>\n",
       "      <td>8k-10k</td>\n",
       "      <td>0</td>\n",
       "      <td>1</td>\n",
       "      <td>69</td>\n",
       "      <td>0</td>\n",
       "      <td>0</td>\n",
       "    </tr>\n",
       "    <tr>\n",
       "      <th>...</th>\n",
       "      <td>...</td>\n",
       "      <td>...</td>\n",
       "      <td>...</td>\n",
       "      <td>...</td>\n",
       "      <td>...</td>\n",
       "      <td>...</td>\n",
       "      <td>...</td>\n",
       "      <td>...</td>\n",
       "      <td>...</td>\n",
       "      <td>...</td>\n",
       "      <td>...</td>\n",
       "      <td>...</td>\n",
       "      <td>...</td>\n",
       "      <td>...</td>\n",
       "      <td>...</td>\n",
       "      <td>...</td>\n",
       "      <td>...</td>\n",
       "      <td>...</td>\n",
       "      <td>...</td>\n",
       "      <td>...</td>\n",
       "      <td>...</td>\n",
       "    </tr>\n",
       "    <tr>\n",
       "      <th>270</th>\n",
       "      <td>全职</td>\n",
       "      <td>2000人以上</td>\n",
       "      <td>3-5年</td>\n",
       "      <td>本科</td>\n",
       "      <td>社交</td>\n",
       "      <td>产品经理</td>\n",
       "      <td>15</td>\n",
       "      <td>25</td>\n",
       "      <td>1</td>\n",
       "      <td>5276304</td>\n",
       "      <td>...</td>\n",
       "      <td>上市公司</td>\n",
       "      <td>产品|需求|项目类</td>\n",
       "      <td>产品经理</td>\n",
       "      <td>南山区</td>\n",
       "      <td>15k-25k</td>\n",
       "      <td>100</td>\n",
       "      <td>1</td>\n",
       "      <td>10</td>\n",
       "      <td>1</td>\n",
       "      <td>0</td>\n",
       "    </tr>\n",
       "    <tr>\n",
       "      <th>271</th>\n",
       "      <td>全职</td>\n",
       "      <td>2000人以上</td>\n",
       "      <td>3-5年</td>\n",
       "      <td>本科</td>\n",
       "      <td>社交</td>\n",
       "      <td>数据挖掘</td>\n",
       "      <td>18</td>\n",
       "      <td>35</td>\n",
       "      <td>0</td>\n",
       "      <td>6842800</td>\n",
       "      <td>...</td>\n",
       "      <td>上市公司</td>\n",
       "      <td>开发|测试|运维类</td>\n",
       "      <td>数据开发</td>\n",
       "      <td>南山区</td>\n",
       "      <td>18k-35k</td>\n",
       "      <td>100</td>\n",
       "      <td>1</td>\n",
       "      <td>10</td>\n",
       "      <td>1</td>\n",
       "      <td>1</td>\n",
       "    </tr>\n",
       "    <tr>\n",
       "      <th>272</th>\n",
       "      <td>全职</td>\n",
       "      <td>2000人以上</td>\n",
       "      <td>3-5年</td>\n",
       "      <td>本科</td>\n",
       "      <td>社交</td>\n",
       "      <td>数据分析</td>\n",
       "      <td>20</td>\n",
       "      <td>40</td>\n",
       "      <td>0</td>\n",
       "      <td>5250466</td>\n",
       "      <td>...</td>\n",
       "      <td>上市公司</td>\n",
       "      <td>产品|需求|项目类</td>\n",
       "      <td>数据分析</td>\n",
       "      <td>南山区</td>\n",
       "      <td>20k-40k</td>\n",
       "      <td>100</td>\n",
       "      <td>1</td>\n",
       "      <td>10</td>\n",
       "      <td>1</td>\n",
       "      <td>1</td>\n",
       "    </tr>\n",
       "    <tr>\n",
       "      <th>273</th>\n",
       "      <td>全职</td>\n",
       "      <td>2000人以上</td>\n",
       "      <td>1-3年</td>\n",
       "      <td>本科</td>\n",
       "      <td>金融</td>\n",
       "      <td>数据分析</td>\n",
       "      <td>20</td>\n",
       "      <td>30</td>\n",
       "      <td>0</td>\n",
       "      <td>6391267</td>\n",
       "      <td>...</td>\n",
       "      <td>未融资</td>\n",
       "      <td>开发|测试|运维类</td>\n",
       "      <td>数据开发</td>\n",
       "      <td>南山区</td>\n",
       "      <td>20k-30k</td>\n",
       "      <td>15</td>\n",
       "      <td>1</td>\n",
       "      <td>4</td>\n",
       "      <td>1</td>\n",
       "      <td>0</td>\n",
       "    </tr>\n",
       "    <tr>\n",
       "      <th>274</th>\n",
       "      <td>全职</td>\n",
       "      <td>2000人以上</td>\n",
       "      <td>3-5年</td>\n",
       "      <td>本科</td>\n",
       "      <td>金融</td>\n",
       "      <td>数据运营</td>\n",
       "      <td>20</td>\n",
       "      <td>30</td>\n",
       "      <td>0</td>\n",
       "      <td>6823600</td>\n",
       "      <td>...</td>\n",
       "      <td>未融资</td>\n",
       "      <td>运营|编辑|客服类</td>\n",
       "      <td>运营</td>\n",
       "      <td>南山区</td>\n",
       "      <td>20k-30k</td>\n",
       "      <td>15</td>\n",
       "      <td>1</td>\n",
       "      <td>4</td>\n",
       "      <td>1</td>\n",
       "      <td>0</td>\n",
       "    </tr>\n",
       "  </tbody>\n",
       "</table>\n",
       "<p>275 rows × 22 columns</p>\n",
       "</div>"
      ],
      "text/plain": [
       "    jobNature companySize workYear education industryField thirdType  \\\n",
       "0          全职   500-2000人     1-3年        本科            旅游      数据分析   \n",
       "1          全职   500-2000人     3-5年        本科    消费生活,移动互联网        商业   \n",
       "2          全职     2000人以上    5-10年        本科            金融        建模   \n",
       "3          全职     2000人以上     1-3年        本科            金融    Hadoop   \n",
       "4          全职     2000人以上     1-3年        大专      移动互联网,游戏      数据分析   \n",
       "..        ...         ...      ...       ...           ...       ...   \n",
       "270        全职     2000人以上     3-5年        本科            社交      产品经理   \n",
       "271        全职     2000人以上     3-5年        本科            社交      数据挖掘   \n",
       "272        全职     2000人以上     3-5年        本科            社交      数据分析   \n",
       "273        全职     2000人以上     1-3年        本科            金融      数据分析   \n",
       "274        全职     2000人以上     3-5年        本科            金融      数据运营   \n",
       "\n",
       "     salaryMin  salaryMax  nameUnfit positionId  ... financeStage  firstType  \\\n",
       "0           18         35          0    6112946  ...        D轮及以上  开发|测试|运维类   \n",
       "1           15         25          0    6229664  ...           C轮  产品|需求|项目类   \n",
       "2           15         30          0    6853427  ...         上市公司  开发|测试|运维类   \n",
       "3           20         30          0    6692363  ...        不需要融资  开发|测试|运维类   \n",
       "4            8         10          0    6835783  ...        不需要融资  产品|需求|项目类   \n",
       "..         ...        ...        ...        ...  ...          ...        ...   \n",
       "270         15         25          1    5276304  ...         上市公司  产品|需求|项目类   \n",
       "271         18         35          0    6842800  ...         上市公司  开发|测试|运维类   \n",
       "272         20         40          0    5250466  ...         上市公司  产品|需求|项目类   \n",
       "273         20         30          0    6391267  ...          未融资  开发|测试|运维类   \n",
       "274         20         30          0    6823600  ...          未融资  运营|编辑|客服类   \n",
       "\n",
       "    secondType district   salary resumeProcessRate resumeProcessDay  score  \\\n",
       "0         数据开发      福田区  18k-35k               100                1    199   \n",
       "1         数据分析      南山区  15k-25k               100                1    179   \n",
       "2         数据开发      福田区  15k-30k               100                1    130   \n",
       "3         数据开发      南山区  20k-30k               100                2     89   \n",
       "4         数据分析      南山区   8k-10k                 0                1     69   \n",
       "..         ...      ...      ...               ...              ...    ...   \n",
       "270       产品经理      南山区  15k-25k               100                1     10   \n",
       "271       数据开发      南山区  18k-35k               100                1     10   \n",
       "272       数据分析      南山区  20k-40k               100                1     10   \n",
       "273       数据开发      南山区  20k-30k                15                1      4   \n",
       "274         运营      南山区  20k-30k                15                1      4   \n",
       "\n",
       "     famousCompany  isFocus  \n",
       "0                0        1  \n",
       "1                0        1  \n",
       "2                1        0  \n",
       "3                0        0  \n",
       "4                0        0  \n",
       "..             ...      ...  \n",
       "270              1        0  \n",
       "271              1        1  \n",
       "272              1        1  \n",
       "273              1        0  \n",
       "274              1        0  \n",
       "\n",
       "[275 rows x 22 columns]"
      ]
     },
     "execution_count": 28,
     "metadata": {},
     "output_type": "execute_result"
    }
   ],
   "source": [
    "import pymysql.cursors\n",
    "import pandas as pd\n",
    "\n",
    "db = pymysql.connect(host='localhost',user='root',password='root',db='lagou',charset='utf8',cursorclass=pymysql.cursors.DictCursor)\n",
    "cursor = db.cursor()\n",
    "sql = 'SELECT * FROM dataset;'\n",
    "cursor.execute(sql)\n",
    "result = cursor.fetchall()\n",
    "df = pd.DataFrame(list(result))\n",
    "db.close()\n",
    "\n",
    "df"
   ]
  },
  {
   "cell_type": "markdown",
   "metadata": {},
   "source": [
    "#### 拆分训练集和测试集"
   ]
  },
  {
   "cell_type": "code",
   "execution_count": 29,
   "metadata": {
    "scrolled": true
   },
   "outputs": [],
   "source": [
    "from sklearn.model_selection import train_test_split\n",
    "X = df.iloc[:,:-1]\n",
    "X = pd.get_dummies(X).values\n",
    "y = df.iloc[:,-1]\n",
    "X_train, X_test, y_train, y_test = train_test_split(X, y, test_size=0.33, random_state=42)"
   ]
  },
  {
   "cell_type": "code",
   "execution_count": 30,
   "metadata": {
    "scrolled": false
   },
   "outputs": [
    {
     "data": {
      "text/plain": [
       "Index(['salaryMin', 'salaryMax', 'nameUnfit', 'resumeProcessRate',\n",
       "       'resumeProcessDay', 'score', 'famousCompany', 'jobNature_全职',\n",
       "       'jobNature_兼职', 'jobNature_实习',\n",
       "       ...\n",
       "       'salary_7k-13k', 'salary_7k-14k', 'salary_8k-10k', 'salary_8k-11k',\n",
       "       'salary_8k-12k', 'salary_8k-13k', 'salary_8k-15k', 'salary_8k-16k',\n",
       "       'salary_9k-12k', 'salary_9k-14k'],\n",
       "      dtype='object', length=687)"
      ]
     },
     "execution_count": 30,
     "metadata": {},
     "output_type": "execute_result"
    }
   ],
   "source": [
    "X_names = pd.get_dummies(df.iloc[:,:-1]).columns\n",
    "X_names"
   ]
  },
  {
   "cell_type": "markdown",
   "metadata": {},
   "source": [
    "#### 建模"
   ]
  },
  {
   "cell_type": "code",
   "execution_count": 31,
   "metadata": {
    "scrolled": false
   },
   "outputs": [
    {
     "data": {
      "text/plain": [
       "GradientBoostingClassifier(ccp_alpha=0.0, criterion='friedman_mse', init=None,\n",
       "                           learning_rate=0.1, loss='deviance', max_depth=3,\n",
       "                           max_features=None, max_leaf_nodes=None,\n",
       "                           min_impurity_decrease=0.0, min_impurity_split=None,\n",
       "                           min_samples_leaf=1, min_samples_split=2,\n",
       "                           min_weight_fraction_leaf=0.0, n_estimators=100,\n",
       "                           n_iter_no_change=None, presort='deprecated',\n",
       "                           random_state=42, subsample=1.0, tol=0.0001,\n",
       "                           validation_fraction=0.1, verbose=0,\n",
       "                           warm_start=False)"
      ]
     },
     "execution_count": 31,
     "metadata": {},
     "output_type": "execute_result"
    }
   ],
   "source": [
    "from sklearn.ensemble import GradientBoostingClassifier\n",
    "\n",
    "gbc = GradientBoostingClassifier(random_state=42)\n",
    "gbc.fit(X_train, y_train)"
   ]
  },
  {
   "cell_type": "markdown",
   "metadata": {},
   "source": [
    "### 一、画ROC曲线图（scikit-learn版本至少0.22）"
   ]
  },
  {
   "cell_type": "code",
   "execution_count": 16,
   "metadata": {},
   "outputs": [],
   "source": [
    "?plot_roc_curve"
   ]
  },
  {
   "cell_type": "code",
   "execution_count": 47,
   "metadata": {
    "scrolled": true
   },
   "outputs": [
    {
     "data": {
      "image/png": "[encoded data removed]",
      "text/plain": [
       "<Figure size 432x288 with 1 Axes>"
      ]
     },
     "metadata": {
      "needs_background": "light"
     },
     "output_type": "display_data"
    }
   ],
   "source": [
    "from sklearn.metrics import plot_roc_curve\n",
    "from matplotlib import pyplot as plt\n",
    "\n",
    "plt.rcParams['font.sans-serif'] = ['SimHei']  # 中文字体设置-黑体\n",
    "plt.rcParams['axes.unicode_minus'] = False  # 解决保存图像是负号'-'显示为方块的问题\n",
    "\n",
    "gbc_disp = plot_roc_curve(gbc, X_test, y_test)\n",
    "plt.show()"
   ]
  },
  {
   "cell_type": "markdown",
   "metadata": {},
   "source": [
    "### 二、把训练集和测试集的ROC图画在一起"
   ]
  },
  {
   "cell_type": "code",
   "execution_count": 48,
   "metadata": {},
   "outputs": [
    {
     "data": {
      "image/png": "[encoded data removed]",
      "text/plain": [
       "<Figure size 432x288 with 1 Axes>"
      ]
     },
     "metadata": {
      "needs_background": "light"
     },
     "output_type": "display_data"
    }
   ],
   "source": [
    "ax = plt.gca()\n",
    "gbc_disp_train = plot_roc_curve(gbc, X_train, y_train, ax=ax, name='训练集')\n",
    "gbc_disp.plot(ax=ax, name='测试集')\n",
    "plt.show()"
   ]
  },
  {
   "cell_type": "markdown",
   "metadata": {},
   "source": [
    "### 三、把两个模型的ROC曲线画在同一个图里"
   ]
  },
  {
   "cell_type": "code",
   "execution_count": 15,
   "metadata": {},
   "outputs": [],
   "source": [
    "?plot_roc_curve"
   ]
  },
  {
   "cell_type": "code",
   "execution_count": 56,
   "metadata": {},
   "outputs": [
    {
     "data": {
      "image/png": "[encoded data removed]",
      "text/plain": [
       "<Figure size 432x288 with 1 Axes>"
      ]
     },
     "metadata": {
      "needs_background": "light"
     },
     "output_type": "display_data"
    }
   ],
   "source": [
    "from sklearn.metrics import plot_roc_curve\n",
    "from matplotlib import pyplot as plt\n",
    "from sklearn.svm import SVC\n",
    "from sklearn.ensemble import RandomForestClassifier\n",
    "\n",
    "plt.rcParams['font.sans-serif'] = ['SimHei']  # 中文字体设置-黑体\n",
    "plt.rcParams['axes.unicode_minus'] = False  # 解决保存图像是负号'-'显示为方块的问题\n",
    "\n",
    "svc = SVC(random_state=42)\n",
    "svc.fit(X_train, y_train)\n",
    "rfc = RandomForestClassifier(random_state=42)\n",
    "rfc.fit(X_train, y_train)\n",
    "\n",
    "svc_disp = plot_roc_curve(svc, X_test, y_test, name='SVM')\n",
    "rfc_disp = plot_roc_curve(rfc, X_test, y_test, ax=svc_disp.ax_, name='RandomForest')\n",
    "\n",
    "rfc_disp.figure_.suptitle('ROC曲线对比图')\n",
    "plt.show()"
   ]
  }
 ],
 "metadata": {
  "kernelspec": {
   "display_name": "Python 3",
   "language": "python",
   "name": "python3"
  },
  "language_info": {
   "codemirror_mode": {
    "name": "ipython",
    "version": 3
   },
   "file_extension": ".py",
   "mimetype": "text/x-python",
   "name": "python",
   "nbconvert_exporter": "python",
   "pygments_lexer": "ipython3",
   "version": "3.7.6"
  }
 },
 "nbformat": 4,
 "nbformat_minor": 2
}
