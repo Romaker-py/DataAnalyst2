{
 "cells": [
  {
   "cell_type": "markdown",
   "metadata": {},
   "source": [
    "### 一、直接创建DataFrame"
   ]
  },
  {
   "cell_type": "markdown",
   "metadata": {},
   "source": [
    "#### 创建DataFrame"
   ]
  },
  {
   "cell_type": "code",
   "execution_count": 4,
   "metadata": {},
   "outputs": [],
   "source": [
    "?pd.DataFrame"
   ]
  },
  {
   "cell_type": "markdown",
   "metadata": {},
   "source": [
    "注意：data这里需要有两个中括号[ ]。"
   ]
  },
  {
   "cell_type": "code",
   "execution_count": 11,
   "metadata": {
    "scrolled": false
   },
   "outputs": [
    {
     "data": {
      "text/html": [
       "<div>\n",
       "<style scoped>\n",
       "    .dataframe tbody tr th:only-of-type {\n",
       "        vertical-align: middle;\n",
       "    }\n",
       "\n",
       "    .dataframe tbody tr th {\n",
       "        vertical-align: top;\n",
       "    }\n",
       "\n",
       "    .dataframe thead th {\n",
       "        text-align: right;\n",
       "    }\n",
       "</style>\n",
       "<table border=\"1\" class=\"dataframe\">\n",
       "  <thead>\n",
       "    <tr style=\"text-align: right;\">\n",
       "      <th></th>\n",
       "      <th>name</th>\n",
       "      <th>gender</th>\n",
       "      <th>birthday</th>\n",
       "    </tr>\n",
       "  </thead>\n",
       "  <tbody>\n",
       "    <tr>\n",
       "      <td>0</td>\n",
       "      <td>张三</td>\n",
       "      <td>男</td>\n",
       "      <td>20200203</td>\n",
       "    </tr>\n",
       "  </tbody>\n",
       "</table>\n",
       "</div>"
      ],
      "text/plain": [
       "  name gender  birthday\n",
       "0   张三      男  20200203"
      ]
     },
     "execution_count": 11,
     "metadata": {},
     "output_type": "execute_result"
    }
   ],
   "source": [
    "import pandas as pd\n",
    "df = pd.DataFrame([['张三','男',20200203]],columns=['name','gender','birthday'])\n",
    "df"
   ]
  },
  {
   "cell_type": "markdown",
   "metadata": {},
   "source": [
    "#### 逐个输出字段元素"
   ]
  },
  {
   "cell_type": "code",
   "execution_count": 6,
   "metadata": {
    "scrolled": true
   },
   "outputs": [
    {
     "data": {
      "text/html": [
       "<div>\n",
       "<style scoped>\n",
       "    .dataframe tbody tr th:only-of-type {\n",
       "        vertical-align: middle;\n",
       "    }\n",
       "\n",
       "    .dataframe tbody tr th {\n",
       "        vertical-align: top;\n",
       "    }\n",
       "\n",
       "    .dataframe thead th {\n",
       "        text-align: right;\n",
       "    }\n",
       "</style>\n",
       "<table border=\"1\" class=\"dataframe\">\n",
       "  <thead>\n",
       "    <tr style=\"text-align: right;\">\n",
       "      <th></th>\n",
       "      <th>name</th>\n",
       "      <th>gender</th>\n",
       "      <th>birthday</th>\n",
       "    </tr>\n",
       "  </thead>\n",
       "  <tbody>\n",
       "    <tr>\n",
       "      <td>0</td>\n",
       "      <td>张三</td>\n",
       "      <td>男</td>\n",
       "      <td>20200203</td>\n",
       "    </tr>\n",
       "    <tr>\n",
       "      <td>1</td>\n",
       "      <td>李四</td>\n",
       "      <td>男</td>\n",
       "      <td>20200301</td>\n",
       "    </tr>\n",
       "  </tbody>\n",
       "</table>\n",
       "</div>"
      ],
      "text/plain": [
       "  name gender  birthday\n",
       "0   张三      男  20200203\n",
       "1   李四      男  20200301"
      ]
     },
     "execution_count": 6,
     "metadata": {},
     "output_type": "execute_result"
    }
   ],
   "source": [
    "import pandas as pd\n",
    "df = pd.DataFrame([['张三','男',20200203],['李四','男',20200301]],columns=['name','gender','birthday'])\n",
    "df"
   ]
  },
  {
   "cell_type": "code",
   "execution_count": 7,
   "metadata": {},
   "outputs": [
    {
     "name": "stdout",
     "output_type": "stream",
     "text": [
      "张三\n",
      "李四\n"
     ]
    }
   ],
   "source": [
    "for i in df['name']:\n",
    "    print(i)"
   ]
  },
  {
   "cell_type": "markdown",
   "metadata": {},
   "source": [
    "#### 输出DataFrame行数"
   ]
  },
  {
   "cell_type": "code",
   "execution_count": 8,
   "metadata": {
    "scrolled": true
   },
   "outputs": [
    {
     "data": {
      "text/plain": [
       "2"
      ]
     },
     "execution_count": 8,
     "metadata": {},
     "output_type": "execute_result"
    }
   ],
   "source": [
    "len(df)"
   ]
  },
  {
   "cell_type": "code",
   "execution_count": 9,
   "metadata": {},
   "outputs": [
    {
     "name": "stdout",
     "output_type": "stream",
     "text": [
      "0\n",
      "1\n"
     ]
    }
   ],
   "source": [
    "for i in range(len(df)):\n",
    "    print(i)"
   ]
  },
  {
   "cell_type": "markdown",
   "metadata": {},
   "source": [
    "#### 输出字段的第一个值"
   ]
  },
  {
   "cell_type": "code",
   "execution_count": null,
   "metadata": {},
   "outputs": [],
   "source": [
    "df['name'][0]"
   ]
  },
  {
   "cell_type": "markdown",
   "metadata": {},
   "source": [
    "### 二、根据列表创建DataFrame"
   ]
  },
  {
   "cell_type": "code",
   "execution_count": 1,
   "metadata": {},
   "outputs": [],
   "source": [
    "import pandas as pd"
   ]
  },
  {
   "cell_type": "markdown",
   "metadata": {},
   "source": [
    "可以一次创建多个字段，但原来的数据会被覆盖。"
   ]
  },
  {
   "cell_type": "code",
   "execution_count": 11,
   "metadata": {},
   "outputs": [
    {
     "name": "stdout",
     "output_type": "stream",
     "text": [
      "[['BLUE成立于2015年，创始团队来自华为和国内一线互联网公司。BLUE在中国深圳、泰国曼谷和印尼雅加达设有办公室和研发中心，以场景为中心，从线上发展到线下，构建了箭速迭代的线上产品运营和渗透城市毛细血管的线下拓展两大核心能力，既把中国互联网最新的产品技术模式带到东南亚，又能基于东南亚市场进行深度本地化的创新，并不断通过线上和线下的协同，在人、货、场三个方面打通数据赋能，持续提升经营效率，打造独特的平台竞争力。', datetime.datetime(2016, 12, 5, 0, 0), '100万美元'], ['BLUE成立于2015年，创始团队来自华为和国内一线互联网公司。BLUE在中国深圳、泰国曼谷和印尼雅加达设有办公室和研发中心，以场景为中心，从线上发展到线下，构建了箭速迭代的线上产品运营和渗透城市毛细血管的线下拓展两大核心能力，既把中国互联网最新的产品技术模式带到东南亚，又能基于东南亚市场进行深度本地化的创新，并不断通过线上和线下的协同，在人、货、场三个方面打通数据赋能，持续提升经营效率，打造独特的平台竞争力。', datetime.datetime(2016, 12, 5, 0, 0), '100万美元'], ['BLUE成立于2015年，创始团队来自华为和国内一线互联网公司。BLUE在中国深圳、泰国曼谷和印尼雅加达设有办公室和研发中心，以场景为中心，从线上发展到线下，构建了箭速迭代的线上产品运营和渗透城市毛细血管的线下拓展两大核心能力，既把中国互联网最新的产品技术模式带到东南亚，又能基于东南亚市场进行深度本地化的创新，并不断通过线上和线下的协同，在人、货、场三个方面打通数据赋能，持续提升经营效率，打造独特的平台竞争力。', datetime.datetime(2016, 12, 5, 0, 0), '100万美元']]\n"
     ]
    },
    {
     "data": {
      "text/html": [
       "<div>\n",
       "<style scoped>\n",
       "    .dataframe tbody tr th:only-of-type {\n",
       "        vertical-align: middle;\n",
       "    }\n",
       "\n",
       "    .dataframe tbody tr th {\n",
       "        vertical-align: top;\n",
       "    }\n",
       "\n",
       "    .dataframe thead th {\n",
       "        text-align: right;\n",
       "    }\n",
       "</style>\n",
       "<table border=\"1\" class=\"dataframe\">\n",
       "  <thead>\n",
       "    <tr style=\"text-align: right;\">\n",
       "      <th></th>\n",
       "      <th>0</th>\n",
       "      <th>1</th>\n",
       "      <th>2</th>\n",
       "    </tr>\n",
       "  </thead>\n",
       "  <tbody>\n",
       "    <tr>\n",
       "      <td>0</td>\n",
       "      <td>BLUE成立于2015年，创始团队来自华为和国内一线互联网公司。BLUE在中国深圳、泰国曼谷...</td>\n",
       "      <td>2016-12-05</td>\n",
       "      <td>100万美元</td>\n",
       "    </tr>\n",
       "    <tr>\n",
       "      <td>1</td>\n",
       "      <td>BLUE成立于2015年，创始团队来自华为和国内一线互联网公司。BLUE在中国深圳、泰国曼谷...</td>\n",
       "      <td>2016-12-05</td>\n",
       "      <td>100万美元</td>\n",
       "    </tr>\n",
       "    <tr>\n",
       "      <td>2</td>\n",
       "      <td>BLUE成立于2015年，创始团队来自华为和国内一线互联网公司。BLUE在中国深圳、泰国曼谷...</td>\n",
       "      <td>2016-12-05</td>\n",
       "      <td>100万美元</td>\n",
       "    </tr>\n",
       "  </tbody>\n",
       "</table>\n",
       "</div>"
      ],
      "text/plain": [
       "                                                   0          1       2\n",
       "0  BLUE成立于2015年，创始团队来自华为和国内一线互联网公司。BLUE在中国深圳、泰国曼谷... 2016-12-05  100万美元\n",
       "1  BLUE成立于2015年，创始团队来自华为和国内一线互联网公司。BLUE在中国深圳、泰国曼谷... 2016-12-05  100万美元\n",
       "2  BLUE成立于2015年，创始团队来自华为和国内一线互联网公司。BLUE在中国深圳、泰国曼谷... 2016-12-05  100万美元"
      ]
     },
     "execution_count": 11,
     "metadata": {},
     "output_type": "execute_result"
    }
   ],
   "source": [
    "import datetime\n",
    "arr = ['BLUE成立于2015年，创始团队来自华为和国内一线互联网公司。BLUE在中国深圳、泰国曼谷和印尼雅加达设有办公室和研发中心，以场景为中心，从线上发展到线下，构建了箭速迭代的线上产品运营和渗透城市毛细血管的线下拓展两大核心能力，既把中国互联网最新的产品技术模式带到东南亚，又能基于东南亚市场进行深度本地化的创新，并不断通过线上和线下的协同，在人、货、场三个方面打通数据赋能，持续提升经营效率，打造独特的平台竞争力。', datetime.datetime(2016, 12, 5, 0, 0), '100万美元']\n",
    "df = pd.DataFrame([['a','b','c']],columns=['companyProfile','setupDate','registerCapital'])\n",
    "dblist = []\n",
    "dblist.append(arr)\n",
    "dblist.append(arr)\n",
    "dblist.append(arr)\n",
    "print(dblist)\n",
    "dbdf = pd.DataFrame(dblist)\n",
    "dbdf\n",
    "#for i in dblist:\n",
    "#    df['companyProfile'],df['setupDate'],df['registerCapital'] = i \n",
    "#df"
   ]
  }
 ],
 "metadata": {
  "kernelspec": {
   "display_name": "Python 3",
   "language": "python",
   "name": "python3"
  },
  "language_info": {
   "codemirror_mode": {
    "name": "ipython",
    "version": 3
   },
   "file_extension": ".py",
   "mimetype": "text/x-python",
   "name": "python",
   "nbconvert_exporter": "python",
   "pygments_lexer": "ipython3",
   "version": "3.7.6"
  }
 },
 "nbformat": 4,
 "nbformat_minor": 2
}
