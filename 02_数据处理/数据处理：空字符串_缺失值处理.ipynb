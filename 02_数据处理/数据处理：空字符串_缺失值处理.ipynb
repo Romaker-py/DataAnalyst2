{
 "cells": [
  {
   "cell_type": "markdown",
   "metadata": {},
   "source": [
    "#### 先从MySQL导入数据到DataFrame："
   ]
  },
  {
   "cell_type": "code",
   "execution_count": 1,
   "metadata": {
    "scrolled": true
   },
   "outputs": [
    {
     "data": {
      "text/html": [
       "<div>\n",
       "<style scoped>\n",
       "    .dataframe tbody tr th:only-of-type {\n",
       "        vertical-align: middle;\n",
       "    }\n",
       "\n",
       "    .dataframe tbody tr th {\n",
       "        vertical-align: top;\n",
       "    }\n",
       "\n",
       "    .dataframe thead th {\n",
       "        text-align: right;\n",
       "    }\n",
       "</style>\n",
       "<table border=\"1\" class=\"dataframe\">\n",
       "  <thead>\n",
       "    <tr style=\"text-align: right;\">\n",
       "      <th></th>\n",
       "      <th>EngSize</th>\n",
       "      <th>Age</th>\n",
       "      <th>Gender</th>\n",
       "      <th>Marital</th>\n",
       "      <th>exp</th>\n",
       "      <th>Owner</th>\n",
       "      <th>vAge</th>\n",
       "      <th>Garage</th>\n",
       "      <th>AntiTFD</th>\n",
       "      <th>import</th>\n",
       "      <th>Loss</th>\n",
       "    </tr>\n",
       "  </thead>\n",
       "  <tbody>\n",
       "    <tr>\n",
       "      <th>0</th>\n",
       "      <td>2.0</td>\n",
       "      <td>56</td>\n",
       "      <td>男</td>\n",
       "      <td></td>\n",
       "      <td>20</td>\n",
       "      <td>公司</td>\n",
       "      <td>10</td>\n",
       "      <td>有</td>\n",
       "      <td>有防盗装置</td>\n",
       "      <td>进口</td>\n",
       "      <td>0.0</td>\n",
       "    </tr>\n",
       "    <tr>\n",
       "      <th>1</th>\n",
       "      <td>1.8</td>\n",
       "      <td>41</td>\n",
       "      <td>男</td>\n",
       "      <td></td>\n",
       "      <td>20</td>\n",
       "      <td>公司</td>\n",
       "      <td>9</td>\n",
       "      <td>有</td>\n",
       "      <td>无防盗装置</td>\n",
       "      <td>国产</td>\n",
       "      <td>0.0</td>\n",
       "    </tr>\n",
       "    <tr>\n",
       "      <th>2</th>\n",
       "      <td>2.0</td>\n",
       "      <td>44</td>\n",
       "      <td>男</td>\n",
       "      <td></td>\n",
       "      <td>20</td>\n",
       "      <td>公司</td>\n",
       "      <td>8</td>\n",
       "      <td>有</td>\n",
       "      <td>有防盗装置</td>\n",
       "      <td>国产</td>\n",
       "      <td>0.0</td>\n",
       "    </tr>\n",
       "    <tr>\n",
       "      <th>3</th>\n",
       "      <td>1.6</td>\n",
       "      <td>56</td>\n",
       "      <td>男</td>\n",
       "      <td></td>\n",
       "      <td>20</td>\n",
       "      <td>公司</td>\n",
       "      <td>7</td>\n",
       "      <td>有</td>\n",
       "      <td>有防盗装置</td>\n",
       "      <td>国产</td>\n",
       "      <td>0.0</td>\n",
       "    </tr>\n",
       "    <tr>\n",
       "      <th>4</th>\n",
       "      <td>1.8</td>\n",
       "      <td>45</td>\n",
       "      <td>男</td>\n",
       "      <td></td>\n",
       "      <td>20</td>\n",
       "      <td>公司</td>\n",
       "      <td>7</td>\n",
       "      <td>无</td>\n",
       "      <td>无防盗装置</td>\n",
       "      <td>国产</td>\n",
       "      <td>0.0</td>\n",
       "    </tr>\n",
       "    <tr>\n",
       "      <th>...</th>\n",
       "      <td>...</td>\n",
       "      <td>...</td>\n",
       "      <td>...</td>\n",
       "      <td>...</td>\n",
       "      <td>...</td>\n",
       "      <td>...</td>\n",
       "      <td>...</td>\n",
       "      <td>...</td>\n",
       "      <td>...</td>\n",
       "      <td>...</td>\n",
       "      <td>...</td>\n",
       "    </tr>\n",
       "    <tr>\n",
       "      <th>16927</th>\n",
       "      <td>1.8</td>\n",
       "      <td>22</td>\n",
       "      <td>女</td>\n",
       "      <td>未婚</td>\n",
       "      <td>0</td>\n",
       "      <td>私人</td>\n",
       "      <td>1</td>\n",
       "      <td>有</td>\n",
       "      <td>有防盗装置</td>\n",
       "      <td>国产</td>\n",
       "      <td>976.0</td>\n",
       "    </tr>\n",
       "    <tr>\n",
       "      <th>16928</th>\n",
       "      <td>2.5</td>\n",
       "      <td>22</td>\n",
       "      <td>男</td>\n",
       "      <td>未婚</td>\n",
       "      <td>0</td>\n",
       "      <td>私人</td>\n",
       "      <td>1</td>\n",
       "      <td>有</td>\n",
       "      <td>无防盗装置</td>\n",
       "      <td>进口</td>\n",
       "      <td>855.6</td>\n",
       "    </tr>\n",
       "    <tr>\n",
       "      <th>16929</th>\n",
       "      <td>1.8</td>\n",
       "      <td>21</td>\n",
       "      <td>男</td>\n",
       "      <td>未婚</td>\n",
       "      <td>0</td>\n",
       "      <td>私人</td>\n",
       "      <td>1</td>\n",
       "      <td>有</td>\n",
       "      <td>无防盗装置</td>\n",
       "      <td>国产</td>\n",
       "      <td>0.0</td>\n",
       "    </tr>\n",
       "    <tr>\n",
       "      <th>16930</th>\n",
       "      <td>1.8</td>\n",
       "      <td>21</td>\n",
       "      <td>女</td>\n",
       "      <td>未婚</td>\n",
       "      <td>0</td>\n",
       "      <td>私人</td>\n",
       "      <td>1</td>\n",
       "      <td>有</td>\n",
       "      <td>无防盗装置</td>\n",
       "      <td>进口</td>\n",
       "      <td>3328.0</td>\n",
       "    </tr>\n",
       "    <tr>\n",
       "      <th>16931</th>\n",
       "      <td>2.4</td>\n",
       "      <td>21</td>\n",
       "      <td>女</td>\n",
       "      <td>未婚</td>\n",
       "      <td>0</td>\n",
       "      <td>私人</td>\n",
       "      <td>1</td>\n",
       "      <td>有</td>\n",
       "      <td>无防盗装置</td>\n",
       "      <td>进口</td>\n",
       "      <td>1564.0</td>\n",
       "    </tr>\n",
       "  </tbody>\n",
       "</table>\n",
       "<p>16932 rows × 11 columns</p>\n",
       "</div>"
      ],
      "text/plain": [
       "       EngSize  Age Gender Marital  exp Owner  vAge Garage AntiTFD import  \\\n",
       "0          2.0   56      男           20    公司    10      有   有防盗装置     进口   \n",
       "1          1.8   41      男           20    公司     9      有   无防盗装置     国产   \n",
       "2          2.0   44      男           20    公司     8      有   有防盗装置     国产   \n",
       "3          1.6   56      男           20    公司     7      有   有防盗装置     国产   \n",
       "4          1.8   45      男           20    公司     7      无   无防盗装置     国产   \n",
       "...        ...  ...    ...     ...  ...   ...   ...    ...     ...    ...   \n",
       "16927      1.8   22      女      未婚    0    私人     1      有   有防盗装置     国产   \n",
       "16928      2.5   22      男      未婚    0    私人     1      有   无防盗装置     进口   \n",
       "16929      1.8   21      男      未婚    0    私人     1      有   无防盗装置     国产   \n",
       "16930      1.8   21      女      未婚    0    私人     1      有   无防盗装置     进口   \n",
       "16931      2.4   21      女      未婚    0    私人     1      有   无防盗装置     进口   \n",
       "\n",
       "         Loss  \n",
       "0         0.0  \n",
       "1         0.0  \n",
       "2         0.0  \n",
       "3         0.0  \n",
       "4         0.0  \n",
       "...       ...  \n",
       "16927   976.0  \n",
       "16928   855.6  \n",
       "16929     0.0  \n",
       "16930  3328.0  \n",
       "16931  1564.0  \n",
       "\n",
       "[16932 rows x 11 columns]"
      ]
     },
     "execution_count": 1,
     "metadata": {},
     "output_type": "execute_result"
    }
   ],
   "source": [
    "import pymysql.cursors\n",
    "import pandas as pd\n",
    "\n",
    "db = pymysql.connect(host='localhost',user='root',password='root',db='python',charset='utf8',cursorclass=pymysql.cursors.DictCursor)\n",
    "cursor = db.cursor()\n",
    "sql = 'SELECT * FROM car_loss;'\n",
    "cursor.execute(sql)\n",
    "result = cursor.fetchall()\n",
    "df = pd.DataFrame(list(result))\n",
    "db.close()\n",
    "\n",
    "df"
   ]
  },
  {
   "cell_type": "markdown",
   "metadata": {},
   "source": [
    "## 一、处理空字符串\"\""
   ]
  },
  {
   "cell_type": "markdown",
   "metadata": {},
   "source": [
    "说明：由于空字符串\"\"无法被检测为空值，且不方便后续填补，故需要先检测各字段是否存在空字符串。"
   ]
  },
  {
   "cell_type": "markdown",
   "metadata": {},
   "source": [
    "### 1、检测各字段是否含有空字符串\"\""
   ]
  },
  {
   "cell_type": "markdown",
   "metadata": {},
   "source": [
    "#### 检测某字段是否存在空字符串"
   ]
  },
  {
   "cell_type": "code",
   "execution_count": 136,
   "metadata": {},
   "outputs": [
    {
     "data": {
      "text/plain": [
       "True"
      ]
     },
     "execution_count": 136,
     "metadata": {},
     "output_type": "execute_result"
    }
   ],
   "source": [
    "(df['Gender'] == '').any()"
   ]
  },
  {
   "cell_type": "markdown",
   "metadata": {},
   "source": [
    "#### 检测各字段是否含有空字符串"
   ]
  },
  {
   "cell_type": "code",
   "execution_count": 139,
   "metadata": {
    "scrolled": true
   },
   "outputs": [
    {
     "data": {
      "text/plain": [
       "EngSize    False\n",
       "Age        False\n",
       "Gender      True\n",
       "Marital     True\n",
       "exp        False\n",
       "Owner       True\n",
       "vAge       False\n",
       "Garage      True\n",
       "AntiTFD     True\n",
       "import      True\n",
       "Loss       False\n",
       "dtype: bool"
      ]
     },
     "execution_count": 139,
     "metadata": {},
     "output_type": "execute_result"
    }
   ],
   "source": [
    "(df == '').any()"
   ]
  },
  {
   "cell_type": "markdown",
   "metadata": {},
   "source": [
    "#### 检测所有字段是否含有空字符串"
   ]
  },
  {
   "cell_type": "code",
   "execution_count": 140,
   "metadata": {},
   "outputs": [
    {
     "data": {
      "text/plain": [
       "True"
      ]
     },
     "execution_count": 140,
     "metadata": {},
     "output_type": "execute_result"
    }
   ],
   "source": [
    "(df == '').values.any()"
   ]
  },
  {
   "cell_type": "markdown",
   "metadata": {},
   "source": [
    "#### 统计某字段为空字符串的数量"
   ]
  },
  {
   "cell_type": "code",
   "execution_count": 101,
   "metadata": {
    "scrolled": true
   },
   "outputs": [
    {
     "data": {
      "text/plain": [
       "0       False\n",
       "1       False\n",
       "2       False\n",
       "3       False\n",
       "4       False\n",
       "        ...  \n",
       "4228    False\n",
       "4229    False\n",
       "4230    False\n",
       "4231    False\n",
       "4232    False\n",
       "Name: Gender, Length: 4233, dtype: bool"
      ]
     },
     "execution_count": 101,
     "metadata": {},
     "output_type": "execute_result"
    }
   ],
   "source": [
    "df['Gender'] == ''"
   ]
  },
  {
   "cell_type": "code",
   "execution_count": 102,
   "metadata": {
    "scrolled": false
   },
   "outputs": [
    {
     "data": {
      "text/plain": [
       "5"
      ]
     },
     "execution_count": 102,
     "metadata": {},
     "output_type": "execute_result"
    }
   ],
   "source": [
    "(df['Gender'] == '').sum()"
   ]
  },
  {
   "cell_type": "markdown",
   "metadata": {},
   "source": [
    "#### 统计各字段存在空字符串总量"
   ]
  },
  {
   "cell_type": "markdown",
   "metadata": {},
   "source": [
    "值得注意的是，在导入空字符串的时候，数值型字段会存储为0，字符型字段才会以空字符串的形式存储。"
   ]
  },
  {
   "cell_type": "code",
   "execution_count": 103,
   "metadata": {},
   "outputs": [
    {
     "name": "stderr",
     "output_type": "stream",
     "text": [
      "C:\\Users\\romak\\Anaconda3\\lib\\site-packages\\pandas\\core\\ops\\__init__.py:1115: FutureWarning: elementwise comparison failed; returning scalar instead, but in the future will perform elementwise comparison\n",
      "  result = method(y)\n"
     ]
    },
    {
     "data": {
      "text/plain": [
       "EngSize    0\n",
       "Age        0\n",
       "Gender     5\n",
       "Marital    5\n",
       "exp        0\n",
       "Owner      5\n",
       "vAge       0\n",
       "Garage     5\n",
       "AntiTFD    5\n",
       "import     5\n",
       "Loss       0\n",
       "dtype: int64"
      ]
     },
     "execution_count": 103,
     "metadata": {},
     "output_type": "execute_result"
    }
   ],
   "source": [
    "(df == '').sum()"
   ]
  },
  {
   "cell_type": "markdown",
   "metadata": {},
   "source": [
    "### 2、检测数值型字段是否存在存储为 0 的空字符串"
   ]
  },
  {
   "cell_type": "markdown",
   "metadata": {},
   "source": [
    "需要注意的是：数值型字段本身就有可能是0，并非由导入空字符串造成。"
   ]
  },
  {
   "cell_type": "code",
   "execution_count": 104,
   "metadata": {},
   "outputs": [
    {
     "data": {
      "text/plain": [
       "EngSize       5\n",
       "Age           5\n",
       "Gender        0\n",
       "Marital       0\n",
       "exp         172\n",
       "Owner         0\n",
       "vAge          5\n",
       "Garage        0\n",
       "AntiTFD       0\n",
       "import        0\n",
       "Loss       3028\n",
       "dtype: int64"
      ]
     },
     "execution_count": 104,
     "metadata": {},
     "output_type": "execute_result"
    }
   ],
   "source": [
    "(df == 0).sum()"
   ]
  },
  {
   "cell_type": "markdown",
   "metadata": {},
   "source": [
    "### 3、把空字符串\"\"填补成空值NaN"
   ]
  },
  {
   "cell_type": "markdown",
   "metadata": {},
   "source": [
    "#### 把指定列的空字符串\"\"填补成空值NaN"
   ]
  },
  {
   "cell_type": "code",
   "execution_count": 105,
   "metadata": {},
   "outputs": [],
   "source": [
    "import numpy as np\n",
    "df['Gender'] = df['Gender'].map(lambda x: np.nan if x == '' else x)"
   ]
  },
  {
   "cell_type": "code",
   "execution_count": 106,
   "metadata": {
    "scrolled": true
   },
   "outputs": [
    {
     "data": {
      "text/plain": [
       "5"
      ]
     },
     "execution_count": 106,
     "metadata": {},
     "output_type": "execute_result"
    }
   ],
   "source": [
    "df['Gender'].isna().sum()"
   ]
  },
  {
   "cell_type": "code",
   "execution_count": 107,
   "metadata": {},
   "outputs": [
    {
     "data": {
      "text/plain": [
       "EngSize    0\n",
       "Age        0\n",
       "Gender     5\n",
       "Marital    0\n",
       "exp        0\n",
       "Owner      0\n",
       "vAge       0\n",
       "Garage     0\n",
       "AntiTFD    0\n",
       "import     0\n",
       "Loss       0\n",
       "dtype: int64"
      ]
     },
     "execution_count": 107,
     "metadata": {},
     "output_type": "execute_result"
    }
   ],
   "source": [
    "df.isna().sum()"
   ]
  },
  {
   "cell_type": "markdown",
   "metadata": {},
   "source": [
    "#### 把所有字段的空字符串\"\"填补成空值NaN"
   ]
  },
  {
   "cell_type": "code",
   "execution_count": 108,
   "metadata": {
    "scrolled": true
   },
   "outputs": [
    {
     "data": {
      "text/html": [
       "<div>\n",
       "<style scoped>\n",
       "    .dataframe tbody tr th:only-of-type {\n",
       "        vertical-align: middle;\n",
       "    }\n",
       "\n",
       "    .dataframe tbody tr th {\n",
       "        vertical-align: top;\n",
       "    }\n",
       "\n",
       "    .dataframe thead th {\n",
       "        text-align: right;\n",
       "    }\n",
       "</style>\n",
       "<table border=\"1\" class=\"dataframe\">\n",
       "  <thead>\n",
       "    <tr style=\"text-align: right;\">\n",
       "      <th></th>\n",
       "      <th>EngSize</th>\n",
       "      <th>Age</th>\n",
       "      <th>Gender</th>\n",
       "      <th>Marital</th>\n",
       "      <th>exp</th>\n",
       "      <th>Owner</th>\n",
       "      <th>vAge</th>\n",
       "      <th>Garage</th>\n",
       "      <th>AntiTFD</th>\n",
       "      <th>import</th>\n",
       "      <th>Loss</th>\n",
       "    </tr>\n",
       "  </thead>\n",
       "  <tbody>\n",
       "    <tr>\n",
       "      <td>0</td>\n",
       "      <td>2.0</td>\n",
       "      <td>56</td>\n",
       "      <td>男</td>\n",
       "      <td>NaN</td>\n",
       "      <td>20</td>\n",
       "      <td>公司</td>\n",
       "      <td>10</td>\n",
       "      <td>有</td>\n",
       "      <td>有防盗装置</td>\n",
       "      <td>进口</td>\n",
       "      <td>0.0</td>\n",
       "    </tr>\n",
       "    <tr>\n",
       "      <td>1</td>\n",
       "      <td>1.8</td>\n",
       "      <td>41</td>\n",
       "      <td>男</td>\n",
       "      <td>NaN</td>\n",
       "      <td>20</td>\n",
       "      <td>公司</td>\n",
       "      <td>9</td>\n",
       "      <td>有</td>\n",
       "      <td>无防盗装置</td>\n",
       "      <td>国产</td>\n",
       "      <td>0.0</td>\n",
       "    </tr>\n",
       "    <tr>\n",
       "      <td>2</td>\n",
       "      <td>2.0</td>\n",
       "      <td>44</td>\n",
       "      <td>男</td>\n",
       "      <td>NaN</td>\n",
       "      <td>20</td>\n",
       "      <td>公司</td>\n",
       "      <td>8</td>\n",
       "      <td>有</td>\n",
       "      <td>有防盗装置</td>\n",
       "      <td>国产</td>\n",
       "      <td>0.0</td>\n",
       "    </tr>\n",
       "    <tr>\n",
       "      <td>3</td>\n",
       "      <td>1.6</td>\n",
       "      <td>56</td>\n",
       "      <td>男</td>\n",
       "      <td>NaN</td>\n",
       "      <td>20</td>\n",
       "      <td>公司</td>\n",
       "      <td>7</td>\n",
       "      <td>有</td>\n",
       "      <td>有防盗装置</td>\n",
       "      <td>国产</td>\n",
       "      <td>0.0</td>\n",
       "    </tr>\n",
       "    <tr>\n",
       "      <td>4</td>\n",
       "      <td>1.8</td>\n",
       "      <td>45</td>\n",
       "      <td>男</td>\n",
       "      <td>NaN</td>\n",
       "      <td>20</td>\n",
       "      <td>公司</td>\n",
       "      <td>7</td>\n",
       "      <td>无</td>\n",
       "      <td>无防盗装置</td>\n",
       "      <td>国产</td>\n",
       "      <td>0.0</td>\n",
       "    </tr>\n",
       "    <tr>\n",
       "      <td>...</td>\n",
       "      <td>...</td>\n",
       "      <td>...</td>\n",
       "      <td>...</td>\n",
       "      <td>...</td>\n",
       "      <td>...</td>\n",
       "      <td>...</td>\n",
       "      <td>...</td>\n",
       "      <td>...</td>\n",
       "      <td>...</td>\n",
       "      <td>...</td>\n",
       "      <td>...</td>\n",
       "    </tr>\n",
       "    <tr>\n",
       "      <td>4228</td>\n",
       "      <td>1.8</td>\n",
       "      <td>22</td>\n",
       "      <td>女</td>\n",
       "      <td>未婚</td>\n",
       "      <td>0</td>\n",
       "      <td>私人</td>\n",
       "      <td>1</td>\n",
       "      <td>有</td>\n",
       "      <td>有防盗装置</td>\n",
       "      <td>国产</td>\n",
       "      <td>976.0</td>\n",
       "    </tr>\n",
       "    <tr>\n",
       "      <td>4229</td>\n",
       "      <td>2.5</td>\n",
       "      <td>22</td>\n",
       "      <td>男</td>\n",
       "      <td>未婚</td>\n",
       "      <td>0</td>\n",
       "      <td>私人</td>\n",
       "      <td>1</td>\n",
       "      <td>有</td>\n",
       "      <td>无防盗装置</td>\n",
       "      <td>进口</td>\n",
       "      <td>855.6</td>\n",
       "    </tr>\n",
       "    <tr>\n",
       "      <td>4230</td>\n",
       "      <td>1.8</td>\n",
       "      <td>21</td>\n",
       "      <td>男</td>\n",
       "      <td>未婚</td>\n",
       "      <td>0</td>\n",
       "      <td>私人</td>\n",
       "      <td>1</td>\n",
       "      <td>有</td>\n",
       "      <td>无防盗装置</td>\n",
       "      <td>国产</td>\n",
       "      <td>0.0</td>\n",
       "    </tr>\n",
       "    <tr>\n",
       "      <td>4231</td>\n",
       "      <td>1.8</td>\n",
       "      <td>21</td>\n",
       "      <td>女</td>\n",
       "      <td>未婚</td>\n",
       "      <td>0</td>\n",
       "      <td>私人</td>\n",
       "      <td>1</td>\n",
       "      <td>有</td>\n",
       "      <td>无防盗装置</td>\n",
       "      <td>进口</td>\n",
       "      <td>3328.0</td>\n",
       "    </tr>\n",
       "    <tr>\n",
       "      <td>4232</td>\n",
       "      <td>2.4</td>\n",
       "      <td>21</td>\n",
       "      <td>女</td>\n",
       "      <td>未婚</td>\n",
       "      <td>0</td>\n",
       "      <td>私人</td>\n",
       "      <td>1</td>\n",
       "      <td>有</td>\n",
       "      <td>无防盗装置</td>\n",
       "      <td>进口</td>\n",
       "      <td>1564.0</td>\n",
       "    </tr>\n",
       "  </tbody>\n",
       "</table>\n",
       "<p>4233 rows × 11 columns</p>\n",
       "</div>"
      ],
      "text/plain": [
       "      EngSize  Age Gender Marital  exp Owner  vAge Garage AntiTFD import  \\\n",
       "0         2.0   56      男     NaN   20    公司    10      有   有防盗装置     进口   \n",
       "1         1.8   41      男     NaN   20    公司     9      有   无防盗装置     国产   \n",
       "2         2.0   44      男     NaN   20    公司     8      有   有防盗装置     国产   \n",
       "3         1.6   56      男     NaN   20    公司     7      有   有防盗装置     国产   \n",
       "4         1.8   45      男     NaN   20    公司     7      无   无防盗装置     国产   \n",
       "...       ...  ...    ...     ...  ...   ...   ...    ...     ...    ...   \n",
       "4228      1.8   22      女      未婚    0    私人     1      有   有防盗装置     国产   \n",
       "4229      2.5   22      男      未婚    0    私人     1      有   无防盗装置     进口   \n",
       "4230      1.8   21      男      未婚    0    私人     1      有   无防盗装置     国产   \n",
       "4231      1.8   21      女      未婚    0    私人     1      有   无防盗装置     进口   \n",
       "4232      2.4   21      女      未婚    0    私人     1      有   无防盗装置     进口   \n",
       "\n",
       "        Loss  \n",
       "0        0.0  \n",
       "1        0.0  \n",
       "2        0.0  \n",
       "3        0.0  \n",
       "4        0.0  \n",
       "...      ...  \n",
       "4228   976.0  \n",
       "4229   855.6  \n",
       "4230     0.0  \n",
       "4231  3328.0  \n",
       "4232  1564.0  \n",
       "\n",
       "[4233 rows x 11 columns]"
      ]
     },
     "execution_count": 108,
     "metadata": {},
     "output_type": "execute_result"
    }
   ],
   "source": [
    "df = df.applymap(lambda x: np.nan if x == '' else x)\n",
    "df"
   ]
  },
  {
   "cell_type": "code",
   "execution_count": 109,
   "metadata": {},
   "outputs": [
    {
     "data": {
      "text/plain": [
       "EngSize    0\n",
       "Age        0\n",
       "Gender     5\n",
       "Marital    5\n",
       "exp        0\n",
       "Owner      5\n",
       "vAge       0\n",
       "Garage     5\n",
       "AntiTFD    5\n",
       "import     5\n",
       "Loss       0\n",
       "dtype: int64"
      ]
     },
     "execution_count": 109,
     "metadata": {},
     "output_type": "execute_result"
    }
   ],
   "source": [
    "df.isna().sum()"
   ]
  },
  {
   "cell_type": "markdown",
   "metadata": {},
   "source": [
    "## 二、处理空值NaN"
   ]
  },
  {
   "cell_type": "markdown",
   "metadata": {},
   "source": [
    "### 1、检测各字段是否存在空值NaN"
   ]
  },
  {
   "cell_type": "markdown",
   "metadata": {},
   "source": [
    "#### 检测所有字段是否存在空值NaN"
   ]
  },
  {
   "cell_type": "code",
   "execution_count": 110,
   "metadata": {},
   "outputs": [
    {
     "data": {
      "text/plain": [
       "True"
      ]
     },
     "execution_count": 110,
     "metadata": {},
     "output_type": "execute_result"
    }
   ],
   "source": [
    "df.isna().values.any()"
   ]
  },
  {
   "cell_type": "markdown",
   "metadata": {},
   "source": [
    "#### 检测各字段是否存在空值NaN"
   ]
  },
  {
   "cell_type": "code",
   "execution_count": 111,
   "metadata": {},
   "outputs": [
    {
     "data": {
      "text/plain": [
       "EngSize    False\n",
       "Age        False\n",
       "Gender      True\n",
       "Marital     True\n",
       "exp        False\n",
       "Owner       True\n",
       "vAge       False\n",
       "Garage      True\n",
       "AntiTFD     True\n",
       "import      True\n",
       "Loss       False\n",
       "dtype: bool"
      ]
     },
     "execution_count": 111,
     "metadata": {},
     "output_type": "execute_result"
    }
   ],
   "source": [
    "df.isna().any()"
   ]
  },
  {
   "cell_type": "markdown",
   "metadata": {},
   "source": [
    "### 2、统计各字段空值NaN情况"
   ]
  },
  {
   "cell_type": "markdown",
   "metadata": {},
   "source": [
    "#### 统计所有字段存在空值NaN总量"
   ]
  },
  {
   "cell_type": "code",
   "execution_count": 112,
   "metadata": {},
   "outputs": [
    {
     "data": {
      "text/plain": [
       "30"
      ]
     },
     "execution_count": 112,
     "metadata": {},
     "output_type": "execute_result"
    }
   ],
   "source": [
    "df.isna().values.sum()"
   ]
  },
  {
   "cell_type": "markdown",
   "metadata": {},
   "source": [
    "#### 统计各字段存在空值NaN的数量"
   ]
  },
  {
   "cell_type": "code",
   "execution_count": 113,
   "metadata": {
    "scrolled": false
   },
   "outputs": [
    {
     "data": {
      "text/plain": [
       "EngSize    0\n",
       "Age        0\n",
       "Gender     5\n",
       "Marital    5\n",
       "exp        0\n",
       "Owner      5\n",
       "vAge       0\n",
       "Garage     5\n",
       "AntiTFD    5\n",
       "import     5\n",
       "Loss       0\n",
       "dtype: int64"
      ]
     },
     "execution_count": 113,
     "metadata": {},
     "output_type": "execute_result"
    }
   ],
   "source": [
    "df.isna().sum()"
   ]
  },
  {
   "cell_type": "markdown",
   "metadata": {},
   "source": [
    "#### 统计各字段非空值的数量"
   ]
  },
  {
   "cell_type": "code",
   "execution_count": 6,
   "metadata": {},
   "outputs": [
    {
     "data": {
      "text/plain": [
       "EngSize    16932\n",
       "Age        16932\n",
       "Gender     16932\n",
       "Marital    16932\n",
       "exp        16932\n",
       "Owner      16932\n",
       "vAge       16932\n",
       "Garage     16932\n",
       "AntiTFD    16932\n",
       "import     16932\n",
       "Loss       16932\n",
       "dtype: int64"
      ]
     },
     "execution_count": 6,
     "metadata": {},
     "output_type": "execute_result"
    }
   ],
   "source": [
    "df.notna().sum()"
   ]
  },
  {
   "cell_type": "markdown",
   "metadata": {},
   "source": [
    "#### 统计各字段空值NaN占比"
   ]
  },
  {
   "cell_type": "code",
   "execution_count": 114,
   "metadata": {},
   "outputs": [
    {
     "data": {
      "text/plain": [
       "EngSize    4233\n",
       "Age        4233\n",
       "Gender     4228\n",
       "Marital    4228\n",
       "exp        4233\n",
       "Owner      4228\n",
       "vAge       4233\n",
       "Garage     4228\n",
       "AntiTFD    4228\n",
       "import     4228\n",
       "Loss       4233\n",
       "dtype: int64"
      ]
     },
     "execution_count": 114,
     "metadata": {},
     "output_type": "execute_result"
    }
   ],
   "source": [
    "df.count()"
   ]
  },
  {
   "cell_type": "code",
   "execution_count": 115,
   "metadata": {
    "scrolled": true
   },
   "outputs": [
    {
     "data": {
      "text/plain": [
       "EngSize    0.000000\n",
       "Age        0.000000\n",
       "Gender     0.001183\n",
       "Marital    0.001183\n",
       "exp        0.000000\n",
       "Owner      0.001183\n",
       "vAge       0.000000\n",
       "Garage     0.001183\n",
       "AntiTFD    0.001183\n",
       "import     0.001183\n",
       "Loss       0.000000\n",
       "dtype: float64"
      ]
     },
     "execution_count": 115,
     "metadata": {},
     "output_type": "execute_result"
    }
   ],
   "source": [
    "df.isna().sum()/(df.count()+df.isna().sum())"
   ]
  },
  {
   "cell_type": "markdown",
   "metadata": {},
   "source": [
    "### 3、舍弃空值NaN"
   ]
  },
  {
   "cell_type": "code",
   "execution_count": 116,
   "metadata": {
    "scrolled": true
   },
   "outputs": [
    {
     "data": {
      "text/html": [
       "<div>\n",
       "<style scoped>\n",
       "    .dataframe tbody tr th:only-of-type {\n",
       "        vertical-align: middle;\n",
       "    }\n",
       "\n",
       "    .dataframe tbody tr th {\n",
       "        vertical-align: top;\n",
       "    }\n",
       "\n",
       "    .dataframe thead th {\n",
       "        text-align: right;\n",
       "    }\n",
       "</style>\n",
       "<table border=\"1\" class=\"dataframe\">\n",
       "  <thead>\n",
       "    <tr style=\"text-align: right;\">\n",
       "      <th></th>\n",
       "      <th>EngSize</th>\n",
       "      <th>Age</th>\n",
       "      <th>Gender</th>\n",
       "      <th>Marital</th>\n",
       "      <th>exp</th>\n",
       "      <th>Owner</th>\n",
       "      <th>vAge</th>\n",
       "      <th>Garage</th>\n",
       "      <th>AntiTFD</th>\n",
       "      <th>import</th>\n",
       "      <th>Loss</th>\n",
       "    </tr>\n",
       "  </thead>\n",
       "  <tbody>\n",
       "    <tr>\n",
       "      <td>0</td>\n",
       "      <td>2.0</td>\n",
       "      <td>56</td>\n",
       "      <td>男</td>\n",
       "      <td>NaN</td>\n",
       "      <td>20</td>\n",
       "      <td>公司</td>\n",
       "      <td>10</td>\n",
       "      <td>有</td>\n",
       "      <td>有防盗装置</td>\n",
       "      <td>进口</td>\n",
       "      <td>0.0</td>\n",
       "    </tr>\n",
       "    <tr>\n",
       "      <td>1</td>\n",
       "      <td>1.8</td>\n",
       "      <td>41</td>\n",
       "      <td>男</td>\n",
       "      <td>NaN</td>\n",
       "      <td>20</td>\n",
       "      <td>公司</td>\n",
       "      <td>9</td>\n",
       "      <td>有</td>\n",
       "      <td>无防盗装置</td>\n",
       "      <td>国产</td>\n",
       "      <td>0.0</td>\n",
       "    </tr>\n",
       "    <tr>\n",
       "      <td>2</td>\n",
       "      <td>2.0</td>\n",
       "      <td>44</td>\n",
       "      <td>男</td>\n",
       "      <td>NaN</td>\n",
       "      <td>20</td>\n",
       "      <td>公司</td>\n",
       "      <td>8</td>\n",
       "      <td>有</td>\n",
       "      <td>有防盗装置</td>\n",
       "      <td>国产</td>\n",
       "      <td>0.0</td>\n",
       "    </tr>\n",
       "    <tr>\n",
       "      <td>3</td>\n",
       "      <td>1.6</td>\n",
       "      <td>56</td>\n",
       "      <td>男</td>\n",
       "      <td>NaN</td>\n",
       "      <td>20</td>\n",
       "      <td>公司</td>\n",
       "      <td>7</td>\n",
       "      <td>有</td>\n",
       "      <td>有防盗装置</td>\n",
       "      <td>国产</td>\n",
       "      <td>0.0</td>\n",
       "    </tr>\n",
       "    <tr>\n",
       "      <td>4</td>\n",
       "      <td>1.8</td>\n",
       "      <td>45</td>\n",
       "      <td>男</td>\n",
       "      <td>NaN</td>\n",
       "      <td>20</td>\n",
       "      <td>公司</td>\n",
       "      <td>7</td>\n",
       "      <td>无</td>\n",
       "      <td>无防盗装置</td>\n",
       "      <td>国产</td>\n",
       "      <td>0.0</td>\n",
       "    </tr>\n",
       "    <tr>\n",
       "      <td>...</td>\n",
       "      <td>...</td>\n",
       "      <td>...</td>\n",
       "      <td>...</td>\n",
       "      <td>...</td>\n",
       "      <td>...</td>\n",
       "      <td>...</td>\n",
       "      <td>...</td>\n",
       "      <td>...</td>\n",
       "      <td>...</td>\n",
       "      <td>...</td>\n",
       "      <td>...</td>\n",
       "    </tr>\n",
       "    <tr>\n",
       "      <td>4228</td>\n",
       "      <td>1.8</td>\n",
       "      <td>22</td>\n",
       "      <td>女</td>\n",
       "      <td>未婚</td>\n",
       "      <td>0</td>\n",
       "      <td>私人</td>\n",
       "      <td>1</td>\n",
       "      <td>有</td>\n",
       "      <td>有防盗装置</td>\n",
       "      <td>国产</td>\n",
       "      <td>976.0</td>\n",
       "    </tr>\n",
       "    <tr>\n",
       "      <td>4229</td>\n",
       "      <td>2.5</td>\n",
       "      <td>22</td>\n",
       "      <td>男</td>\n",
       "      <td>未婚</td>\n",
       "      <td>0</td>\n",
       "      <td>私人</td>\n",
       "      <td>1</td>\n",
       "      <td>有</td>\n",
       "      <td>无防盗装置</td>\n",
       "      <td>进口</td>\n",
       "      <td>855.6</td>\n",
       "    </tr>\n",
       "    <tr>\n",
       "      <td>4230</td>\n",
       "      <td>1.8</td>\n",
       "      <td>21</td>\n",
       "      <td>男</td>\n",
       "      <td>未婚</td>\n",
       "      <td>0</td>\n",
       "      <td>私人</td>\n",
       "      <td>1</td>\n",
       "      <td>有</td>\n",
       "      <td>无防盗装置</td>\n",
       "      <td>国产</td>\n",
       "      <td>0.0</td>\n",
       "    </tr>\n",
       "    <tr>\n",
       "      <td>4231</td>\n",
       "      <td>1.8</td>\n",
       "      <td>21</td>\n",
       "      <td>女</td>\n",
       "      <td>未婚</td>\n",
       "      <td>0</td>\n",
       "      <td>私人</td>\n",
       "      <td>1</td>\n",
       "      <td>有</td>\n",
       "      <td>无防盗装置</td>\n",
       "      <td>进口</td>\n",
       "      <td>3328.0</td>\n",
       "    </tr>\n",
       "    <tr>\n",
       "      <td>4232</td>\n",
       "      <td>2.4</td>\n",
       "      <td>21</td>\n",
       "      <td>女</td>\n",
       "      <td>未婚</td>\n",
       "      <td>0</td>\n",
       "      <td>私人</td>\n",
       "      <td>1</td>\n",
       "      <td>有</td>\n",
       "      <td>无防盗装置</td>\n",
       "      <td>进口</td>\n",
       "      <td>1564.0</td>\n",
       "    </tr>\n",
       "  </tbody>\n",
       "</table>\n",
       "<p>4233 rows × 11 columns</p>\n",
       "</div>"
      ],
      "text/plain": [
       "      EngSize  Age Gender Marital  exp Owner  vAge Garage AntiTFD import  \\\n",
       "0         2.0   56      男     NaN   20    公司    10      有   有防盗装置     进口   \n",
       "1         1.8   41      男     NaN   20    公司     9      有   无防盗装置     国产   \n",
       "2         2.0   44      男     NaN   20    公司     8      有   有防盗装置     国产   \n",
       "3         1.6   56      男     NaN   20    公司     7      有   有防盗装置     国产   \n",
       "4         1.8   45      男     NaN   20    公司     7      无   无防盗装置     国产   \n",
       "...       ...  ...    ...     ...  ...   ...   ...    ...     ...    ...   \n",
       "4228      1.8   22      女      未婚    0    私人     1      有   有防盗装置     国产   \n",
       "4229      2.5   22      男      未婚    0    私人     1      有   无防盗装置     进口   \n",
       "4230      1.8   21      男      未婚    0    私人     1      有   无防盗装置     国产   \n",
       "4231      1.8   21      女      未婚    0    私人     1      有   无防盗装置     进口   \n",
       "4232      2.4   21      女      未婚    0    私人     1      有   无防盗装置     进口   \n",
       "\n",
       "        Loss  \n",
       "0        0.0  \n",
       "1        0.0  \n",
       "2        0.0  \n",
       "3        0.0  \n",
       "4        0.0  \n",
       "...      ...  \n",
       "4228   976.0  \n",
       "4229   855.6  \n",
       "4230     0.0  \n",
       "4231  3328.0  \n",
       "4232  1564.0  \n",
       "\n",
       "[4233 rows x 11 columns]"
      ]
     },
     "execution_count": 116,
     "metadata": {},
     "output_type": "execute_result"
    }
   ],
   "source": [
    "df"
   ]
  },
  {
   "cell_type": "markdown",
   "metadata": {},
   "source": [
    "#### 舍弃整列为空值NaN的列"
   ]
  },
  {
   "cell_type": "markdown",
   "metadata": {},
   "source": [
    "舍弃行的时候，删除axis参数即可。"
   ]
  },
  {
   "cell_type": "code",
   "execution_count": 117,
   "metadata": {
    "scrolled": false
   },
   "outputs": [
    {
     "data": {
      "text/html": [
       "<div>\n",
       "<style scoped>\n",
       "    .dataframe tbody tr th:only-of-type {\n",
       "        vertical-align: middle;\n",
       "    }\n",
       "\n",
       "    .dataframe tbody tr th {\n",
       "        vertical-align: top;\n",
       "    }\n",
       "\n",
       "    .dataframe thead th {\n",
       "        text-align: right;\n",
       "    }\n",
       "</style>\n",
       "<table border=\"1\" class=\"dataframe\">\n",
       "  <thead>\n",
       "    <tr style=\"text-align: right;\">\n",
       "      <th></th>\n",
       "      <th>EngSize</th>\n",
       "      <th>Age</th>\n",
       "      <th>Gender</th>\n",
       "      <th>Marital</th>\n",
       "      <th>exp</th>\n",
       "      <th>Owner</th>\n",
       "      <th>vAge</th>\n",
       "      <th>Garage</th>\n",
       "      <th>AntiTFD</th>\n",
       "      <th>import</th>\n",
       "      <th>Loss</th>\n",
       "      <th>kongzhi</th>\n",
       "    </tr>\n",
       "  </thead>\n",
       "  <tbody>\n",
       "    <tr>\n",
       "      <td>0</td>\n",
       "      <td>2.0</td>\n",
       "      <td>56</td>\n",
       "      <td>男</td>\n",
       "      <td>NaN</td>\n",
       "      <td>20</td>\n",
       "      <td>公司</td>\n",
       "      <td>10</td>\n",
       "      <td>有</td>\n",
       "      <td>有防盗装置</td>\n",
       "      <td>进口</td>\n",
       "      <td>0.0</td>\n",
       "      <td>NaN</td>\n",
       "    </tr>\n",
       "    <tr>\n",
       "      <td>1</td>\n",
       "      <td>1.8</td>\n",
       "      <td>41</td>\n",
       "      <td>男</td>\n",
       "      <td>NaN</td>\n",
       "      <td>20</td>\n",
       "      <td>公司</td>\n",
       "      <td>9</td>\n",
       "      <td>有</td>\n",
       "      <td>无防盗装置</td>\n",
       "      <td>国产</td>\n",
       "      <td>0.0</td>\n",
       "      <td>NaN</td>\n",
       "    </tr>\n",
       "    <tr>\n",
       "      <td>2</td>\n",
       "      <td>2.0</td>\n",
       "      <td>44</td>\n",
       "      <td>男</td>\n",
       "      <td>NaN</td>\n",
       "      <td>20</td>\n",
       "      <td>公司</td>\n",
       "      <td>8</td>\n",
       "      <td>有</td>\n",
       "      <td>有防盗装置</td>\n",
       "      <td>国产</td>\n",
       "      <td>0.0</td>\n",
       "      <td>NaN</td>\n",
       "    </tr>\n",
       "    <tr>\n",
       "      <td>3</td>\n",
       "      <td>1.6</td>\n",
       "      <td>56</td>\n",
       "      <td>男</td>\n",
       "      <td>NaN</td>\n",
       "      <td>20</td>\n",
       "      <td>公司</td>\n",
       "      <td>7</td>\n",
       "      <td>有</td>\n",
       "      <td>有防盗装置</td>\n",
       "      <td>国产</td>\n",
       "      <td>0.0</td>\n",
       "      <td>NaN</td>\n",
       "    </tr>\n",
       "    <tr>\n",
       "      <td>4</td>\n",
       "      <td>1.8</td>\n",
       "      <td>45</td>\n",
       "      <td>男</td>\n",
       "      <td>NaN</td>\n",
       "      <td>20</td>\n",
       "      <td>公司</td>\n",
       "      <td>7</td>\n",
       "      <td>无</td>\n",
       "      <td>无防盗装置</td>\n",
       "      <td>国产</td>\n",
       "      <td>0.0</td>\n",
       "      <td>NaN</td>\n",
       "    </tr>\n",
       "    <tr>\n",
       "      <td>...</td>\n",
       "      <td>...</td>\n",
       "      <td>...</td>\n",
       "      <td>...</td>\n",
       "      <td>...</td>\n",
       "      <td>...</td>\n",
       "      <td>...</td>\n",
       "      <td>...</td>\n",
       "      <td>...</td>\n",
       "      <td>...</td>\n",
       "      <td>...</td>\n",
       "      <td>...</td>\n",
       "      <td>...</td>\n",
       "    </tr>\n",
       "    <tr>\n",
       "      <td>4228</td>\n",
       "      <td>1.8</td>\n",
       "      <td>22</td>\n",
       "      <td>女</td>\n",
       "      <td>未婚</td>\n",
       "      <td>0</td>\n",
       "      <td>私人</td>\n",
       "      <td>1</td>\n",
       "      <td>有</td>\n",
       "      <td>有防盗装置</td>\n",
       "      <td>国产</td>\n",
       "      <td>976.0</td>\n",
       "      <td>NaN</td>\n",
       "    </tr>\n",
       "    <tr>\n",
       "      <td>4229</td>\n",
       "      <td>2.5</td>\n",
       "      <td>22</td>\n",
       "      <td>男</td>\n",
       "      <td>未婚</td>\n",
       "      <td>0</td>\n",
       "      <td>私人</td>\n",
       "      <td>1</td>\n",
       "      <td>有</td>\n",
       "      <td>无防盗装置</td>\n",
       "      <td>进口</td>\n",
       "      <td>855.6</td>\n",
       "      <td>NaN</td>\n",
       "    </tr>\n",
       "    <tr>\n",
       "      <td>4230</td>\n",
       "      <td>1.8</td>\n",
       "      <td>21</td>\n",
       "      <td>男</td>\n",
       "      <td>未婚</td>\n",
       "      <td>0</td>\n",
       "      <td>私人</td>\n",
       "      <td>1</td>\n",
       "      <td>有</td>\n",
       "      <td>无防盗装置</td>\n",
       "      <td>国产</td>\n",
       "      <td>0.0</td>\n",
       "      <td>NaN</td>\n",
       "    </tr>\n",
       "    <tr>\n",
       "      <td>4231</td>\n",
       "      <td>1.8</td>\n",
       "      <td>21</td>\n",
       "      <td>女</td>\n",
       "      <td>未婚</td>\n",
       "      <td>0</td>\n",
       "      <td>私人</td>\n",
       "      <td>1</td>\n",
       "      <td>有</td>\n",
       "      <td>无防盗装置</td>\n",
       "      <td>进口</td>\n",
       "      <td>3328.0</td>\n",
       "      <td>NaN</td>\n",
       "    </tr>\n",
       "    <tr>\n",
       "      <td>4232</td>\n",
       "      <td>2.4</td>\n",
       "      <td>21</td>\n",
       "      <td>女</td>\n",
       "      <td>未婚</td>\n",
       "      <td>0</td>\n",
       "      <td>私人</td>\n",
       "      <td>1</td>\n",
       "      <td>有</td>\n",
       "      <td>无防盗装置</td>\n",
       "      <td>进口</td>\n",
       "      <td>1564.0</td>\n",
       "      <td>NaN</td>\n",
       "    </tr>\n",
       "  </tbody>\n",
       "</table>\n",
       "<p>4233 rows × 12 columns</p>\n",
       "</div>"
      ],
      "text/plain": [
       "      EngSize  Age Gender Marital  exp Owner  vAge Garage AntiTFD import  \\\n",
       "0         2.0   56      男     NaN   20    公司    10      有   有防盗装置     进口   \n",
       "1         1.8   41      男     NaN   20    公司     9      有   无防盗装置     国产   \n",
       "2         2.0   44      男     NaN   20    公司     8      有   有防盗装置     国产   \n",
       "3         1.6   56      男     NaN   20    公司     7      有   有防盗装置     国产   \n",
       "4         1.8   45      男     NaN   20    公司     7      无   无防盗装置     国产   \n",
       "...       ...  ...    ...     ...  ...   ...   ...    ...     ...    ...   \n",
       "4228      1.8   22      女      未婚    0    私人     1      有   有防盗装置     国产   \n",
       "4229      2.5   22      男      未婚    0    私人     1      有   无防盗装置     进口   \n",
       "4230      1.8   21      男      未婚    0    私人     1      有   无防盗装置     国产   \n",
       "4231      1.8   21      女      未婚    0    私人     1      有   无防盗装置     进口   \n",
       "4232      2.4   21      女      未婚    0    私人     1      有   无防盗装置     进口   \n",
       "\n",
       "        Loss  kongzhi  \n",
       "0        0.0      NaN  \n",
       "1        0.0      NaN  \n",
       "2        0.0      NaN  \n",
       "3        0.0      NaN  \n",
       "4        0.0      NaN  \n",
       "...      ...      ...  \n",
       "4228   976.0      NaN  \n",
       "4229   855.6      NaN  \n",
       "4230     0.0      NaN  \n",
       "4231  3328.0      NaN  \n",
       "4232  1564.0      NaN  \n",
       "\n",
       "[4233 rows x 12 columns]"
      ]
     },
     "execution_count": 117,
     "metadata": {},
     "output_type": "execute_result"
    }
   ],
   "source": [
    "df['kongzhi'] = np.nan\n",
    "df"
   ]
  },
  {
   "cell_type": "code",
   "execution_count": 118,
   "metadata": {
    "scrolled": false
   },
   "outputs": [
    {
     "data": {
      "text/html": [
       "<div>\n",
       "<style scoped>\n",
       "    .dataframe tbody tr th:only-of-type {\n",
       "        vertical-align: middle;\n",
       "    }\n",
       "\n",
       "    .dataframe tbody tr th {\n",
       "        vertical-align: top;\n",
       "    }\n",
       "\n",
       "    .dataframe thead th {\n",
       "        text-align: right;\n",
       "    }\n",
       "</style>\n",
       "<table border=\"1\" class=\"dataframe\">\n",
       "  <thead>\n",
       "    <tr style=\"text-align: right;\">\n",
       "      <th></th>\n",
       "      <th>EngSize</th>\n",
       "      <th>Age</th>\n",
       "      <th>Gender</th>\n",
       "      <th>Marital</th>\n",
       "      <th>exp</th>\n",
       "      <th>Owner</th>\n",
       "      <th>vAge</th>\n",
       "      <th>Garage</th>\n",
       "      <th>AntiTFD</th>\n",
       "      <th>import</th>\n",
       "      <th>Loss</th>\n",
       "    </tr>\n",
       "  </thead>\n",
       "  <tbody>\n",
       "    <tr>\n",
       "      <td>0</td>\n",
       "      <td>2.0</td>\n",
       "      <td>56</td>\n",
       "      <td>男</td>\n",
       "      <td>NaN</td>\n",
       "      <td>20</td>\n",
       "      <td>公司</td>\n",
       "      <td>10</td>\n",
       "      <td>有</td>\n",
       "      <td>有防盗装置</td>\n",
       "      <td>进口</td>\n",
       "      <td>0.0</td>\n",
       "    </tr>\n",
       "    <tr>\n",
       "      <td>1</td>\n",
       "      <td>1.8</td>\n",
       "      <td>41</td>\n",
       "      <td>男</td>\n",
       "      <td>NaN</td>\n",
       "      <td>20</td>\n",
       "      <td>公司</td>\n",
       "      <td>9</td>\n",
       "      <td>有</td>\n",
       "      <td>无防盗装置</td>\n",
       "      <td>国产</td>\n",
       "      <td>0.0</td>\n",
       "    </tr>\n",
       "    <tr>\n",
       "      <td>2</td>\n",
       "      <td>2.0</td>\n",
       "      <td>44</td>\n",
       "      <td>男</td>\n",
       "      <td>NaN</td>\n",
       "      <td>20</td>\n",
       "      <td>公司</td>\n",
       "      <td>8</td>\n",
       "      <td>有</td>\n",
       "      <td>有防盗装置</td>\n",
       "      <td>国产</td>\n",
       "      <td>0.0</td>\n",
       "    </tr>\n",
       "    <tr>\n",
       "      <td>3</td>\n",
       "      <td>1.6</td>\n",
       "      <td>56</td>\n",
       "      <td>男</td>\n",
       "      <td>NaN</td>\n",
       "      <td>20</td>\n",
       "      <td>公司</td>\n",
       "      <td>7</td>\n",
       "      <td>有</td>\n",
       "      <td>有防盗装置</td>\n",
       "      <td>国产</td>\n",
       "      <td>0.0</td>\n",
       "    </tr>\n",
       "    <tr>\n",
       "      <td>4</td>\n",
       "      <td>1.8</td>\n",
       "      <td>45</td>\n",
       "      <td>男</td>\n",
       "      <td>NaN</td>\n",
       "      <td>20</td>\n",
       "      <td>公司</td>\n",
       "      <td>7</td>\n",
       "      <td>无</td>\n",
       "      <td>无防盗装置</td>\n",
       "      <td>国产</td>\n",
       "      <td>0.0</td>\n",
       "    </tr>\n",
       "    <tr>\n",
       "      <td>...</td>\n",
       "      <td>...</td>\n",
       "      <td>...</td>\n",
       "      <td>...</td>\n",
       "      <td>...</td>\n",
       "      <td>...</td>\n",
       "      <td>...</td>\n",
       "      <td>...</td>\n",
       "      <td>...</td>\n",
       "      <td>...</td>\n",
       "      <td>...</td>\n",
       "      <td>...</td>\n",
       "    </tr>\n",
       "    <tr>\n",
       "      <td>4228</td>\n",
       "      <td>1.8</td>\n",
       "      <td>22</td>\n",
       "      <td>女</td>\n",
       "      <td>未婚</td>\n",
       "      <td>0</td>\n",
       "      <td>私人</td>\n",
       "      <td>1</td>\n",
       "      <td>有</td>\n",
       "      <td>有防盗装置</td>\n",
       "      <td>国产</td>\n",
       "      <td>976.0</td>\n",
       "    </tr>\n",
       "    <tr>\n",
       "      <td>4229</td>\n",
       "      <td>2.5</td>\n",
       "      <td>22</td>\n",
       "      <td>男</td>\n",
       "      <td>未婚</td>\n",
       "      <td>0</td>\n",
       "      <td>私人</td>\n",
       "      <td>1</td>\n",
       "      <td>有</td>\n",
       "      <td>无防盗装置</td>\n",
       "      <td>进口</td>\n",
       "      <td>855.6</td>\n",
       "    </tr>\n",
       "    <tr>\n",
       "      <td>4230</td>\n",
       "      <td>1.8</td>\n",
       "      <td>21</td>\n",
       "      <td>男</td>\n",
       "      <td>未婚</td>\n",
       "      <td>0</td>\n",
       "      <td>私人</td>\n",
       "      <td>1</td>\n",
       "      <td>有</td>\n",
       "      <td>无防盗装置</td>\n",
       "      <td>国产</td>\n",
       "      <td>0.0</td>\n",
       "    </tr>\n",
       "    <tr>\n",
       "      <td>4231</td>\n",
       "      <td>1.8</td>\n",
       "      <td>21</td>\n",
       "      <td>女</td>\n",
       "      <td>未婚</td>\n",
       "      <td>0</td>\n",
       "      <td>私人</td>\n",
       "      <td>1</td>\n",
       "      <td>有</td>\n",
       "      <td>无防盗装置</td>\n",
       "      <td>进口</td>\n",
       "      <td>3328.0</td>\n",
       "    </tr>\n",
       "    <tr>\n",
       "      <td>4232</td>\n",
       "      <td>2.4</td>\n",
       "      <td>21</td>\n",
       "      <td>女</td>\n",
       "      <td>未婚</td>\n",
       "      <td>0</td>\n",
       "      <td>私人</td>\n",
       "      <td>1</td>\n",
       "      <td>有</td>\n",
       "      <td>无防盗装置</td>\n",
       "      <td>进口</td>\n",
       "      <td>1564.0</td>\n",
       "    </tr>\n",
       "  </tbody>\n",
       "</table>\n",
       "<p>4233 rows × 11 columns</p>\n",
       "</div>"
      ],
      "text/plain": [
       "      EngSize  Age Gender Marital  exp Owner  vAge Garage AntiTFD import  \\\n",
       "0         2.0   56      男     NaN   20    公司    10      有   有防盗装置     进口   \n",
       "1         1.8   41      男     NaN   20    公司     9      有   无防盗装置     国产   \n",
       "2         2.0   44      男     NaN   20    公司     8      有   有防盗装置     国产   \n",
       "3         1.6   56      男     NaN   20    公司     7      有   有防盗装置     国产   \n",
       "4         1.8   45      男     NaN   20    公司     7      无   无防盗装置     国产   \n",
       "...       ...  ...    ...     ...  ...   ...   ...    ...     ...    ...   \n",
       "4228      1.8   22      女      未婚    0    私人     1      有   有防盗装置     国产   \n",
       "4229      2.5   22      男      未婚    0    私人     1      有   无防盗装置     进口   \n",
       "4230      1.8   21      男      未婚    0    私人     1      有   无防盗装置     国产   \n",
       "4231      1.8   21      女      未婚    0    私人     1      有   无防盗装置     进口   \n",
       "4232      2.4   21      女      未婚    0    私人     1      有   无防盗装置     进口   \n",
       "\n",
       "        Loss  \n",
       "0        0.0  \n",
       "1        0.0  \n",
       "2        0.0  \n",
       "3        0.0  \n",
       "4        0.0  \n",
       "...      ...  \n",
       "4228   976.0  \n",
       "4229   855.6  \n",
       "4230     0.0  \n",
       "4231  3328.0  \n",
       "4232  1564.0  \n",
       "\n",
       "[4233 rows x 11 columns]"
      ]
     },
     "execution_count": 118,
     "metadata": {},
     "output_type": "execute_result"
    }
   ],
   "source": [
    "df.dropna(axis=1,how='all',inplace=True)\n",
    "df"
   ]
  },
  {
   "cell_type": "markdown",
   "metadata": {},
   "source": [
    "#### 舍弃空值NaN数量 ≥ 10个的字段"
   ]
  },
  {
   "cell_type": "markdown",
   "metadata": {},
   "source": [
    "舍弃行的时候，删除axis参数即可。"
   ]
  },
  {
   "cell_type": "code",
   "execution_count": 119,
   "metadata": {
    "scrolled": true
   },
   "outputs": [
    {
     "data": {
      "text/html": [
       "<div>\n",
       "<style scoped>\n",
       "    .dataframe tbody tr th:only-of-type {\n",
       "        vertical-align: middle;\n",
       "    }\n",
       "\n",
       "    .dataframe tbody tr th {\n",
       "        vertical-align: top;\n",
       "    }\n",
       "\n",
       "    .dataframe thead th {\n",
       "        text-align: right;\n",
       "    }\n",
       "</style>\n",
       "<table border=\"1\" class=\"dataframe\">\n",
       "  <thead>\n",
       "    <tr style=\"text-align: right;\">\n",
       "      <th></th>\n",
       "      <th>EngSize</th>\n",
       "      <th>Age</th>\n",
       "      <th>Gender</th>\n",
       "      <th>Marital</th>\n",
       "      <th>exp</th>\n",
       "      <th>Owner</th>\n",
       "      <th>vAge</th>\n",
       "      <th>Garage</th>\n",
       "      <th>AntiTFD</th>\n",
       "      <th>import</th>\n",
       "      <th>Loss</th>\n",
       "    </tr>\n",
       "  </thead>\n",
       "  <tbody>\n",
       "    <tr>\n",
       "      <td>0</td>\n",
       "      <td>2.0</td>\n",
       "      <td>56</td>\n",
       "      <td>男</td>\n",
       "      <td>NaN</td>\n",
       "      <td>20</td>\n",
       "      <td>公司</td>\n",
       "      <td>10</td>\n",
       "      <td>有</td>\n",
       "      <td>有防盗装置</td>\n",
       "      <td>进口</td>\n",
       "      <td>0.0</td>\n",
       "    </tr>\n",
       "    <tr>\n",
       "      <td>1</td>\n",
       "      <td>1.8</td>\n",
       "      <td>41</td>\n",
       "      <td>男</td>\n",
       "      <td>NaN</td>\n",
       "      <td>20</td>\n",
       "      <td>公司</td>\n",
       "      <td>9</td>\n",
       "      <td>有</td>\n",
       "      <td>无防盗装置</td>\n",
       "      <td>国产</td>\n",
       "      <td>0.0</td>\n",
       "    </tr>\n",
       "    <tr>\n",
       "      <td>2</td>\n",
       "      <td>2.0</td>\n",
       "      <td>44</td>\n",
       "      <td>男</td>\n",
       "      <td>NaN</td>\n",
       "      <td>20</td>\n",
       "      <td>公司</td>\n",
       "      <td>8</td>\n",
       "      <td>有</td>\n",
       "      <td>有防盗装置</td>\n",
       "      <td>国产</td>\n",
       "      <td>0.0</td>\n",
       "    </tr>\n",
       "    <tr>\n",
       "      <td>3</td>\n",
       "      <td>1.6</td>\n",
       "      <td>56</td>\n",
       "      <td>男</td>\n",
       "      <td>NaN</td>\n",
       "      <td>20</td>\n",
       "      <td>公司</td>\n",
       "      <td>7</td>\n",
       "      <td>有</td>\n",
       "      <td>有防盗装置</td>\n",
       "      <td>国产</td>\n",
       "      <td>0.0</td>\n",
       "    </tr>\n",
       "    <tr>\n",
       "      <td>4</td>\n",
       "      <td>1.8</td>\n",
       "      <td>45</td>\n",
       "      <td>男</td>\n",
       "      <td>NaN</td>\n",
       "      <td>20</td>\n",
       "      <td>公司</td>\n",
       "      <td>7</td>\n",
       "      <td>无</td>\n",
       "      <td>无防盗装置</td>\n",
       "      <td>国产</td>\n",
       "      <td>0.0</td>\n",
       "    </tr>\n",
       "    <tr>\n",
       "      <td>...</td>\n",
       "      <td>...</td>\n",
       "      <td>...</td>\n",
       "      <td>...</td>\n",
       "      <td>...</td>\n",
       "      <td>...</td>\n",
       "      <td>...</td>\n",
       "      <td>...</td>\n",
       "      <td>...</td>\n",
       "      <td>...</td>\n",
       "      <td>...</td>\n",
       "      <td>...</td>\n",
       "    </tr>\n",
       "    <tr>\n",
       "      <td>4228</td>\n",
       "      <td>1.8</td>\n",
       "      <td>22</td>\n",
       "      <td>女</td>\n",
       "      <td>未婚</td>\n",
       "      <td>0</td>\n",
       "      <td>私人</td>\n",
       "      <td>1</td>\n",
       "      <td>有</td>\n",
       "      <td>有防盗装置</td>\n",
       "      <td>国产</td>\n",
       "      <td>976.0</td>\n",
       "    </tr>\n",
       "    <tr>\n",
       "      <td>4229</td>\n",
       "      <td>2.5</td>\n",
       "      <td>22</td>\n",
       "      <td>男</td>\n",
       "      <td>未婚</td>\n",
       "      <td>0</td>\n",
       "      <td>私人</td>\n",
       "      <td>1</td>\n",
       "      <td>有</td>\n",
       "      <td>无防盗装置</td>\n",
       "      <td>进口</td>\n",
       "      <td>855.6</td>\n",
       "    </tr>\n",
       "    <tr>\n",
       "      <td>4230</td>\n",
       "      <td>1.8</td>\n",
       "      <td>21</td>\n",
       "      <td>男</td>\n",
       "      <td>未婚</td>\n",
       "      <td>0</td>\n",
       "      <td>私人</td>\n",
       "      <td>1</td>\n",
       "      <td>有</td>\n",
       "      <td>无防盗装置</td>\n",
       "      <td>国产</td>\n",
       "      <td>0.0</td>\n",
       "    </tr>\n",
       "    <tr>\n",
       "      <td>4231</td>\n",
       "      <td>1.8</td>\n",
       "      <td>21</td>\n",
       "      <td>女</td>\n",
       "      <td>未婚</td>\n",
       "      <td>0</td>\n",
       "      <td>私人</td>\n",
       "      <td>1</td>\n",
       "      <td>有</td>\n",
       "      <td>无防盗装置</td>\n",
       "      <td>进口</td>\n",
       "      <td>3328.0</td>\n",
       "    </tr>\n",
       "    <tr>\n",
       "      <td>4232</td>\n",
       "      <td>2.4</td>\n",
       "      <td>21</td>\n",
       "      <td>女</td>\n",
       "      <td>未婚</td>\n",
       "      <td>0</td>\n",
       "      <td>私人</td>\n",
       "      <td>1</td>\n",
       "      <td>有</td>\n",
       "      <td>无防盗装置</td>\n",
       "      <td>进口</td>\n",
       "      <td>1564.0</td>\n",
       "    </tr>\n",
       "  </tbody>\n",
       "</table>\n",
       "<p>4233 rows × 11 columns</p>\n",
       "</div>"
      ],
      "text/plain": [
       "      EngSize  Age Gender Marital  exp Owner  vAge Garage AntiTFD import  \\\n",
       "0         2.0   56      男     NaN   20    公司    10      有   有防盗装置     进口   \n",
       "1         1.8   41      男     NaN   20    公司     9      有   无防盗装置     国产   \n",
       "2         2.0   44      男     NaN   20    公司     8      有   有防盗装置     国产   \n",
       "3         1.6   56      男     NaN   20    公司     7      有   有防盗装置     国产   \n",
       "4         1.8   45      男     NaN   20    公司     7      无   无防盗装置     国产   \n",
       "...       ...  ...    ...     ...  ...   ...   ...    ...     ...    ...   \n",
       "4228      1.8   22      女      未婚    0    私人     1      有   有防盗装置     国产   \n",
       "4229      2.5   22      男      未婚    0    私人     1      有   无防盗装置     进口   \n",
       "4230      1.8   21      男      未婚    0    私人     1      有   无防盗装置     国产   \n",
       "4231      1.8   21      女      未婚    0    私人     1      有   无防盗装置     进口   \n",
       "4232      2.4   21      女      未婚    0    私人     1      有   无防盗装置     进口   \n",
       "\n",
       "        Loss  \n",
       "0        0.0  \n",
       "1        0.0  \n",
       "2        0.0  \n",
       "3        0.0  \n",
       "4        0.0  \n",
       "...      ...  \n",
       "4228   976.0  \n",
       "4229   855.6  \n",
       "4230     0.0  \n",
       "4231  3328.0  \n",
       "4232  1564.0  \n",
       "\n",
       "[4233 rows x 11 columns]"
      ]
     },
     "execution_count": 119,
     "metadata": {},
     "output_type": "execute_result"
    }
   ],
   "source": [
    "df.dropna(axis=1,thresh=10,inplace=True)\n",
    "df"
   ]
  },
  {
   "cell_type": "markdown",
   "metadata": {},
   "source": [
    "#### 只要存在空值NaN的字段都舍弃"
   ]
  },
  {
   "cell_type": "markdown",
   "metadata": {},
   "source": [
    "舍弃行的时候，删除axis参数即可。"
   ]
  },
  {
   "cell_type": "code",
   "execution_count": 120,
   "metadata": {
    "scrolled": true
   },
   "outputs": [
    {
     "data": {
      "text/html": [
       "<div>\n",
       "<style scoped>\n",
       "    .dataframe tbody tr th:only-of-type {\n",
       "        vertical-align: middle;\n",
       "    }\n",
       "\n",
       "    .dataframe tbody tr th {\n",
       "        vertical-align: top;\n",
       "    }\n",
       "\n",
       "    .dataframe thead th {\n",
       "        text-align: right;\n",
       "    }\n",
       "</style>\n",
       "<table border=\"1\" class=\"dataframe\">\n",
       "  <thead>\n",
       "    <tr style=\"text-align: right;\">\n",
       "      <th></th>\n",
       "      <th>EngSize</th>\n",
       "      <th>Age</th>\n",
       "      <th>exp</th>\n",
       "      <th>vAge</th>\n",
       "      <th>Loss</th>\n",
       "    </tr>\n",
       "  </thead>\n",
       "  <tbody>\n",
       "    <tr>\n",
       "      <td>0</td>\n",
       "      <td>2.0</td>\n",
       "      <td>56</td>\n",
       "      <td>20</td>\n",
       "      <td>10</td>\n",
       "      <td>0.0</td>\n",
       "    </tr>\n",
       "    <tr>\n",
       "      <td>1</td>\n",
       "      <td>1.8</td>\n",
       "      <td>41</td>\n",
       "      <td>20</td>\n",
       "      <td>9</td>\n",
       "      <td>0.0</td>\n",
       "    </tr>\n",
       "    <tr>\n",
       "      <td>2</td>\n",
       "      <td>2.0</td>\n",
       "      <td>44</td>\n",
       "      <td>20</td>\n",
       "      <td>8</td>\n",
       "      <td>0.0</td>\n",
       "    </tr>\n",
       "    <tr>\n",
       "      <td>3</td>\n",
       "      <td>1.6</td>\n",
       "      <td>56</td>\n",
       "      <td>20</td>\n",
       "      <td>7</td>\n",
       "      <td>0.0</td>\n",
       "    </tr>\n",
       "    <tr>\n",
       "      <td>4</td>\n",
       "      <td>1.8</td>\n",
       "      <td>45</td>\n",
       "      <td>20</td>\n",
       "      <td>7</td>\n",
       "      <td>0.0</td>\n",
       "    </tr>\n",
       "    <tr>\n",
       "      <td>...</td>\n",
       "      <td>...</td>\n",
       "      <td>...</td>\n",
       "      <td>...</td>\n",
       "      <td>...</td>\n",
       "      <td>...</td>\n",
       "    </tr>\n",
       "    <tr>\n",
       "      <td>4228</td>\n",
       "      <td>1.8</td>\n",
       "      <td>22</td>\n",
       "      <td>0</td>\n",
       "      <td>1</td>\n",
       "      <td>976.0</td>\n",
       "    </tr>\n",
       "    <tr>\n",
       "      <td>4229</td>\n",
       "      <td>2.5</td>\n",
       "      <td>22</td>\n",
       "      <td>0</td>\n",
       "      <td>1</td>\n",
       "      <td>855.6</td>\n",
       "    </tr>\n",
       "    <tr>\n",
       "      <td>4230</td>\n",
       "      <td>1.8</td>\n",
       "      <td>21</td>\n",
       "      <td>0</td>\n",
       "      <td>1</td>\n",
       "      <td>0.0</td>\n",
       "    </tr>\n",
       "    <tr>\n",
       "      <td>4231</td>\n",
       "      <td>1.8</td>\n",
       "      <td>21</td>\n",
       "      <td>0</td>\n",
       "      <td>1</td>\n",
       "      <td>3328.0</td>\n",
       "    </tr>\n",
       "    <tr>\n",
       "      <td>4232</td>\n",
       "      <td>2.4</td>\n",
       "      <td>21</td>\n",
       "      <td>0</td>\n",
       "      <td>1</td>\n",
       "      <td>1564.0</td>\n",
       "    </tr>\n",
       "  </tbody>\n",
       "</table>\n",
       "<p>4233 rows × 5 columns</p>\n",
       "</div>"
      ],
      "text/plain": [
       "      EngSize  Age  exp  vAge    Loss\n",
       "0         2.0   56   20    10     0.0\n",
       "1         1.8   41   20     9     0.0\n",
       "2         2.0   44   20     8     0.0\n",
       "3         1.6   56   20     7     0.0\n",
       "4         1.8   45   20     7     0.0\n",
       "...       ...  ...  ...   ...     ...\n",
       "4228      1.8   22    0     1   976.0\n",
       "4229      2.5   22    0     1   855.6\n",
       "4230      1.8   21    0     1     0.0\n",
       "4231      1.8   21    0     1  3328.0\n",
       "4232      2.4   21    0     1  1564.0\n",
       "\n",
       "[4233 rows x 5 columns]"
      ]
     },
     "execution_count": 120,
     "metadata": {},
     "output_type": "execute_result"
    }
   ],
   "source": [
    "df.dropna(axis=1,inplace=False)    # inplace设置为True才会真实生效"
   ]
  },
  {
   "cell_type": "markdown",
   "metadata": {},
   "source": [
    "### 4、填补空值NaN"
   ]
  },
  {
   "cell_type": "code",
   "execution_count": 121,
   "metadata": {
    "scrolled": true
   },
   "outputs": [
    {
     "data": {
      "text/html": [
       "<div>\n",
       "<style scoped>\n",
       "    .dataframe tbody tr th:only-of-type {\n",
       "        vertical-align: middle;\n",
       "    }\n",
       "\n",
       "    .dataframe tbody tr th {\n",
       "        vertical-align: top;\n",
       "    }\n",
       "\n",
       "    .dataframe thead th {\n",
       "        text-align: right;\n",
       "    }\n",
       "</style>\n",
       "<table border=\"1\" class=\"dataframe\">\n",
       "  <thead>\n",
       "    <tr style=\"text-align: right;\">\n",
       "      <th></th>\n",
       "      <th>name</th>\n",
       "      <th>gender</th>\n",
       "      <th>age</th>\n",
       "      <th>city</th>\n",
       "    </tr>\n",
       "  </thead>\n",
       "  <tbody>\n",
       "    <tr>\n",
       "      <td>0</td>\n",
       "      <td>frank</td>\n",
       "      <td>M</td>\n",
       "      <td>NaN</td>\n",
       "      <td>NaN</td>\n",
       "    </tr>\n",
       "    <tr>\n",
       "      <td>1</td>\n",
       "      <td>NaN</td>\n",
       "      <td>NaN</td>\n",
       "      <td>NaN</td>\n",
       "      <td>NaN</td>\n",
       "    </tr>\n",
       "    <tr>\n",
       "      <td>2</td>\n",
       "      <td>tom</td>\n",
       "      <td>M</td>\n",
       "      <td>35.0</td>\n",
       "      <td>NaN</td>\n",
       "    </tr>\n",
       "    <tr>\n",
       "      <td>3</td>\n",
       "      <td>ted</td>\n",
       "      <td>M</td>\n",
       "      <td>33.0</td>\n",
       "      <td>NaN</td>\n",
       "    </tr>\n",
       "    <tr>\n",
       "      <td>4</td>\n",
       "      <td>jean</td>\n",
       "      <td>NaN</td>\n",
       "      <td>21.0</td>\n",
       "      <td>NaN</td>\n",
       "    </tr>\n",
       "    <tr>\n",
       "      <td>5</td>\n",
       "      <td>lisa</td>\n",
       "      <td>F</td>\n",
       "      <td>20.0</td>\n",
       "      <td>NaN</td>\n",
       "    </tr>\n",
       "  </tbody>\n",
       "</table>\n",
       "</div>"
      ],
      "text/plain": [
       "    name gender   age  city\n",
       "0  frank      M   NaN   NaN\n",
       "1    NaN    NaN   NaN   NaN\n",
       "2    tom      M  35.0   NaN\n",
       "3    ted      M  33.0   NaN\n",
       "4   jean    NaN  21.0   NaN\n",
       "5   lisa      F  20.0   NaN"
      ]
     },
     "execution_count": 121,
     "metadata": {},
     "output_type": "execute_result"
    }
   ],
   "source": [
    "import pandas as pd\n",
    "import numpy  as np\n",
    "df = pd.DataFrame([\\\n",
    "                   ['frank', 'M',    np.nan,np.nan], \\\n",
    "                   [np.nan , np.nan, np.nan,np.nan], \\\n",
    "                   ['tom'  , 'M',    35,np.nan], \\\n",
    "                   ['ted'  , 'M',    33,np.nan], \\\n",
    "                   ['jean' , np.nan, 21,np.nan], \\\n",
    "                   ['lisa' , 'F',    20,np.nan]])\n",
    "df.columns = ['name', 'gender', 'age','city']\n",
    "df"
   ]
  },
  {
   "cell_type": "markdown",
   "metadata": {},
   "source": [
    "#### 所有字段的空值NaN填补为0"
   ]
  },
  {
   "cell_type": "code",
   "execution_count": 122,
   "metadata": {
    "scrolled": false
   },
   "outputs": [
    {
     "data": {
      "text/html": [
       "<div>\n",
       "<style scoped>\n",
       "    .dataframe tbody tr th:only-of-type {\n",
       "        vertical-align: middle;\n",
       "    }\n",
       "\n",
       "    .dataframe tbody tr th {\n",
       "        vertical-align: top;\n",
       "    }\n",
       "\n",
       "    .dataframe thead th {\n",
       "        text-align: right;\n",
       "    }\n",
       "</style>\n",
       "<table border=\"1\" class=\"dataframe\">\n",
       "  <thead>\n",
       "    <tr style=\"text-align: right;\">\n",
       "      <th></th>\n",
       "      <th>name</th>\n",
       "      <th>gender</th>\n",
       "      <th>age</th>\n",
       "      <th>city</th>\n",
       "    </tr>\n",
       "  </thead>\n",
       "  <tbody>\n",
       "    <tr>\n",
       "      <td>0</td>\n",
       "      <td>frank</td>\n",
       "      <td>M</td>\n",
       "      <td>0.0</td>\n",
       "      <td>0.0</td>\n",
       "    </tr>\n",
       "    <tr>\n",
       "      <td>1</td>\n",
       "      <td>0</td>\n",
       "      <td>0</td>\n",
       "      <td>0.0</td>\n",
       "      <td>0.0</td>\n",
       "    </tr>\n",
       "    <tr>\n",
       "      <td>2</td>\n",
       "      <td>tom</td>\n",
       "      <td>M</td>\n",
       "      <td>35.0</td>\n",
       "      <td>0.0</td>\n",
       "    </tr>\n",
       "    <tr>\n",
       "      <td>3</td>\n",
       "      <td>ted</td>\n",
       "      <td>M</td>\n",
       "      <td>33.0</td>\n",
       "      <td>0.0</td>\n",
       "    </tr>\n",
       "    <tr>\n",
       "      <td>4</td>\n",
       "      <td>jean</td>\n",
       "      <td>0</td>\n",
       "      <td>21.0</td>\n",
       "      <td>0.0</td>\n",
       "    </tr>\n",
       "    <tr>\n",
       "      <td>5</td>\n",
       "      <td>lisa</td>\n",
       "      <td>F</td>\n",
       "      <td>20.0</td>\n",
       "      <td>0.0</td>\n",
       "    </tr>\n",
       "  </tbody>\n",
       "</table>\n",
       "</div>"
      ],
      "text/plain": [
       "    name gender   age  city\n",
       "0  frank      M   0.0   0.0\n",
       "1      0      0   0.0   0.0\n",
       "2    tom      M  35.0   0.0\n",
       "3    ted      M  33.0   0.0\n",
       "4   jean      0  21.0   0.0\n",
       "5   lisa      F  20.0   0.0"
      ]
     },
     "execution_count": 122,
     "metadata": {},
     "output_type": "execute_result"
    }
   ],
   "source": [
    "df.fillna(0,inplace=False)    # 要想生效，把inplace改为True即可。"
   ]
  },
  {
   "cell_type": "markdown",
   "metadata": {},
   "source": [
    "#### 某字段的空值NaN填补为0"
   ]
  },
  {
   "cell_type": "code",
   "execution_count": 123,
   "metadata": {
    "scrolled": true
   },
   "outputs": [
    {
     "data": {
      "text/plain": [
       "0    frank\n",
       "1        0\n",
       "2      tom\n",
       "3      ted\n",
       "4     jean\n",
       "5     lisa\n",
       "Name: name, dtype: object"
      ]
     },
     "execution_count": 123,
     "metadata": {},
     "output_type": "execute_result"
    }
   ],
   "source": [
    "df['name'].fillna(0,inplace=False)    # 要想生效，把inplace改为True即可。"
   ]
  },
  {
   "cell_type": "markdown",
   "metadata": {},
   "source": [
    "#### 用平均值填补空值NaN"
   ]
  },
  {
   "cell_type": "code",
   "execution_count": 125,
   "metadata": {},
   "outputs": [
    {
     "data": {
      "text/plain": [
       "0    27.25\n",
       "1    27.25\n",
       "2    35.00\n",
       "3    33.00\n",
       "4    21.00\n",
       "5    20.00\n",
       "Name: age, dtype: float64"
      ]
     },
     "execution_count": 125,
     "metadata": {},
     "output_type": "execute_result"
    }
   ],
   "source": [
    "df['age'].fillna(df['age'].mean(),inplace=False)    # 要想生效，把inplace改为True即可。"
   ]
  },
  {
   "cell_type": "markdown",
   "metadata": {},
   "source": [
    "#### 根据性别的平均值填补空值NaN"
   ]
  },
  {
   "cell_type": "code",
   "execution_count": 126,
   "metadata": {
    "scrolled": false
   },
   "outputs": [
    {
     "data": {
      "text/plain": [
       "0    34.0\n",
       "1     NaN\n",
       "2    34.0\n",
       "3    34.0\n",
       "4     NaN\n",
       "5    20.0\n",
       "Name: age, dtype: float64"
      ]
     },
     "execution_count": 126,
     "metadata": {},
     "output_type": "execute_result"
    }
   ],
   "source": [
    "df2 = df.groupby('gender')['age'].transform('mean')\n",
    "df2"
   ]
  },
  {
   "cell_type": "code",
   "execution_count": 127,
   "metadata": {},
   "outputs": [],
   "source": [
    "?df.groupby"
   ]
  },
  {
   "cell_type": "code",
   "execution_count": 70,
   "metadata": {},
   "outputs": [],
   "source": [
    "?df.transform"
   ]
  },
  {
   "cell_type": "code",
   "execution_count": 128,
   "metadata": {
    "scrolled": true
   },
   "outputs": [
    {
     "data": {
      "text/plain": [
       "0    34.0\n",
       "1     NaN\n",
       "2    35.0\n",
       "3    33.0\n",
       "4    21.0\n",
       "5    20.0\n",
       "Name: age, dtype: float64"
      ]
     },
     "execution_count": 128,
     "metadata": {},
     "output_type": "execute_result"
    }
   ],
   "source": [
    "df['age'].fillna(df2,inplace=False)    # 要想生效，把inplace改为True即可。"
   ]
  },
  {
   "cell_type": "markdown",
   "metadata": {},
   "source": [
    "#### 用众数填补空值NaN"
   ]
  },
  {
   "cell_type": "code",
   "execution_count": 129,
   "metadata": {},
   "outputs": [
    {
     "data": {
      "text/plain": [
       "'M'"
      ]
     },
     "execution_count": 129,
     "metadata": {},
     "output_type": "execute_result"
    }
   ],
   "source": [
    "mode = df['gender'].mode()[0]\n",
    "mode"
   ]
  },
  {
   "cell_type": "code",
   "execution_count": 130,
   "metadata": {},
   "outputs": [
    {
     "data": {
      "text/plain": [
       "0    M\n",
       "1    M\n",
       "2    M\n",
       "3    M\n",
       "4    M\n",
       "5    F\n",
       "Name: gender, dtype: object"
      ]
     },
     "execution_count": 130,
     "metadata": {},
     "output_type": "execute_result"
    }
   ],
   "source": [
    "df['gender'].fillna(mode,inplace=False)"
   ]
  },
  {
   "cell_type": "markdown",
   "metadata": {},
   "source": [
    "#### 用前一个非空值填补空值NaN"
   ]
  },
  {
   "cell_type": "code",
   "execution_count": 131,
   "metadata": {
    "scrolled": true
   },
   "outputs": [
    {
     "data": {
      "text/plain": [
       "0     NaN\n",
       "1     NaN\n",
       "2    35.0\n",
       "3    33.0\n",
       "4    21.0\n",
       "5    20.0\n",
       "Name: age, dtype: float64"
      ]
     },
     "execution_count": 131,
     "metadata": {},
     "output_type": "execute_result"
    }
   ],
   "source": [
    "df['age'].fillna(method='ffill',inplace=False)    # 要想生效，把inplace改为True即可。"
   ]
  },
  {
   "cell_type": "markdown",
   "metadata": {},
   "source": [
    "#### 用后一个有效值填补空值NaN"
   ]
  },
  {
   "cell_type": "code",
   "execution_count": 132,
   "metadata": {},
   "outputs": [
    {
     "data": {
      "text/plain": [
       "0    35.0\n",
       "1    35.0\n",
       "2    35.0\n",
       "3    33.0\n",
       "4    21.0\n",
       "5    20.0\n",
       "Name: age, dtype: float64"
      ]
     },
     "execution_count": 132,
     "metadata": {},
     "output_type": "execute_result"
    }
   ],
   "source": [
    "df['age'].fillna(method='bfill',inplace=False)    # 要想生效，把inplace改为True即可。"
   ]
  },
  {
   "cell_type": "markdown",
   "metadata": {},
   "source": [
    "#### 使用内插法填补空值NaN"
   ]
  },
  {
   "cell_type": "code",
   "execution_count": 133,
   "metadata": {
    "scrolled": false
   },
   "outputs": [
    {
     "data": {
      "text/plain": [
       "0      M\n",
       "1    NaN\n",
       "2      M\n",
       "3      M\n",
       "4    NaN\n",
       "5      F\n",
       "Name: gender, dtype: object"
      ]
     },
     "execution_count": 133,
     "metadata": {},
     "output_type": "execute_result"
    }
   ],
   "source": [
    "df['gender'].interpolate()"
   ]
  },
  {
   "cell_type": "code",
   "execution_count": 86,
   "metadata": {},
   "outputs": [],
   "source": [
    "?df.interpolate"
   ]
  }
 ],
 "metadata": {
  "kernelspec": {
   "display_name": "Python 3",
   "language": "python",
   "name": "python3"
  },
  "language_info": {
   "codemirror_mode": {
    "name": "ipython",
    "version": 3
   },
   "file_extension": ".py",
   "mimetype": "text/x-python",
   "name": "python",
   "nbconvert_exporter": "python",
   "pygments_lexer": "ipython3",
   "version": "3.7.6"
  }
 },
 "nbformat": 4,
 "nbformat_minor": 2
}
