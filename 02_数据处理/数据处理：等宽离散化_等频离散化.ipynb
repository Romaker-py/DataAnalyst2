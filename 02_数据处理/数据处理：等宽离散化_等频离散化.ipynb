{
 "cells": [
  {
   "cell_type": "code",
   "execution_count": 1,
   "metadata": {
    "scrolled": true
   },
   "outputs": [
    {
     "data": {
      "text/html": [
       "<div>\n",
       "<style scoped>\n",
       "    .dataframe tbody tr th:only-of-type {\n",
       "        vertical-align: middle;\n",
       "    }\n",
       "\n",
       "    .dataframe tbody tr th {\n",
       "        vertical-align: top;\n",
       "    }\n",
       "\n",
       "    .dataframe thead th {\n",
       "        text-align: right;\n",
       "    }\n",
       "</style>\n",
       "<table border=\"1\" class=\"dataframe\">\n",
       "  <thead>\n",
       "    <tr style=\"text-align: right;\">\n",
       "      <th></th>\n",
       "      <th>EngSize</th>\n",
       "      <th>Age</th>\n",
       "      <th>Gender</th>\n",
       "      <th>Marital</th>\n",
       "      <th>exp</th>\n",
       "      <th>Owner</th>\n",
       "      <th>vAge</th>\n",
       "      <th>Garage</th>\n",
       "      <th>AntiTFD</th>\n",
       "      <th>import</th>\n",
       "      <th>Loss</th>\n",
       "    </tr>\n",
       "  </thead>\n",
       "  <tbody>\n",
       "    <tr>\n",
       "      <td>0</td>\n",
       "      <td>2.0</td>\n",
       "      <td>56</td>\n",
       "      <td>男</td>\n",
       "      <td>已婚</td>\n",
       "      <td>20</td>\n",
       "      <td>公司</td>\n",
       "      <td>10</td>\n",
       "      <td>有</td>\n",
       "      <td>有防盗装置</td>\n",
       "      <td>进口</td>\n",
       "      <td>0.0</td>\n",
       "    </tr>\n",
       "    <tr>\n",
       "      <td>1</td>\n",
       "      <td>1.8</td>\n",
       "      <td>41</td>\n",
       "      <td>男</td>\n",
       "      <td>已婚</td>\n",
       "      <td>20</td>\n",
       "      <td>公司</td>\n",
       "      <td>9</td>\n",
       "      <td>有</td>\n",
       "      <td>无防盗装置</td>\n",
       "      <td>国产</td>\n",
       "      <td>0.0</td>\n",
       "    </tr>\n",
       "    <tr>\n",
       "      <td>2</td>\n",
       "      <td>2.0</td>\n",
       "      <td>44</td>\n",
       "      <td>男</td>\n",
       "      <td>未婚</td>\n",
       "      <td>20</td>\n",
       "      <td>公司</td>\n",
       "      <td>8</td>\n",
       "      <td>有</td>\n",
       "      <td>有防盗装置</td>\n",
       "      <td>国产</td>\n",
       "      <td>0.0</td>\n",
       "    </tr>\n",
       "    <tr>\n",
       "      <td>3</td>\n",
       "      <td>1.6</td>\n",
       "      <td>56</td>\n",
       "      <td>男</td>\n",
       "      <td>已婚</td>\n",
       "      <td>20</td>\n",
       "      <td>公司</td>\n",
       "      <td>7</td>\n",
       "      <td>有</td>\n",
       "      <td>有防盗装置</td>\n",
       "      <td>国产</td>\n",
       "      <td>0.0</td>\n",
       "    </tr>\n",
       "    <tr>\n",
       "      <td>4</td>\n",
       "      <td>1.8</td>\n",
       "      <td>45</td>\n",
       "      <td>男</td>\n",
       "      <td>已婚</td>\n",
       "      <td>20</td>\n",
       "      <td>公司</td>\n",
       "      <td>7</td>\n",
       "      <td>无</td>\n",
       "      <td>无防盗装置</td>\n",
       "      <td>国产</td>\n",
       "      <td>0.0</td>\n",
       "    </tr>\n",
       "    <tr>\n",
       "      <td>...</td>\n",
       "      <td>...</td>\n",
       "      <td>...</td>\n",
       "      <td>...</td>\n",
       "      <td>...</td>\n",
       "      <td>...</td>\n",
       "      <td>...</td>\n",
       "      <td>...</td>\n",
       "      <td>...</td>\n",
       "      <td>...</td>\n",
       "      <td>...</td>\n",
       "      <td>...</td>\n",
       "    </tr>\n",
       "    <tr>\n",
       "      <td>4228</td>\n",
       "      <td>1.8</td>\n",
       "      <td>22</td>\n",
       "      <td>女</td>\n",
       "      <td>未婚</td>\n",
       "      <td>0</td>\n",
       "      <td>私人</td>\n",
       "      <td>1</td>\n",
       "      <td>有</td>\n",
       "      <td>有防盗装置</td>\n",
       "      <td>国产</td>\n",
       "      <td>976.0</td>\n",
       "    </tr>\n",
       "    <tr>\n",
       "      <td>4229</td>\n",
       "      <td>2.5</td>\n",
       "      <td>22</td>\n",
       "      <td>男</td>\n",
       "      <td>未婚</td>\n",
       "      <td>0</td>\n",
       "      <td>私人</td>\n",
       "      <td>1</td>\n",
       "      <td>有</td>\n",
       "      <td>无防盗装置</td>\n",
       "      <td>进口</td>\n",
       "      <td>855.6</td>\n",
       "    </tr>\n",
       "    <tr>\n",
       "      <td>4230</td>\n",
       "      <td>1.8</td>\n",
       "      <td>21</td>\n",
       "      <td>男</td>\n",
       "      <td>未婚</td>\n",
       "      <td>0</td>\n",
       "      <td>私人</td>\n",
       "      <td>1</td>\n",
       "      <td>有</td>\n",
       "      <td>无防盗装置</td>\n",
       "      <td>国产</td>\n",
       "      <td>0.0</td>\n",
       "    </tr>\n",
       "    <tr>\n",
       "      <td>4231</td>\n",
       "      <td>1.8</td>\n",
       "      <td>21</td>\n",
       "      <td>女</td>\n",
       "      <td>未婚</td>\n",
       "      <td>0</td>\n",
       "      <td>私人</td>\n",
       "      <td>1</td>\n",
       "      <td>有</td>\n",
       "      <td>无防盗装置</td>\n",
       "      <td>进口</td>\n",
       "      <td>3328.0</td>\n",
       "    </tr>\n",
       "    <tr>\n",
       "      <td>4232</td>\n",
       "      <td>2.4</td>\n",
       "      <td>21</td>\n",
       "      <td>女</td>\n",
       "      <td>未婚</td>\n",
       "      <td>0</td>\n",
       "      <td>私人</td>\n",
       "      <td>1</td>\n",
       "      <td>有</td>\n",
       "      <td>无防盗装置</td>\n",
       "      <td>进口</td>\n",
       "      <td>1564.0</td>\n",
       "    </tr>\n",
       "  </tbody>\n",
       "</table>\n",
       "<p>4233 rows × 11 columns</p>\n",
       "</div>"
      ],
      "text/plain": [
       "      EngSize  Age Gender Marital  exp Owner  vAge Garage AntiTFD import  \\\n",
       "0         2.0   56      男      已婚   20    公司    10      有   有防盗装置     进口   \n",
       "1         1.8   41      男      已婚   20    公司     9      有   无防盗装置     国产   \n",
       "2         2.0   44      男      未婚   20    公司     8      有   有防盗装置     国产   \n",
       "3         1.6   56      男      已婚   20    公司     7      有   有防盗装置     国产   \n",
       "4         1.8   45      男      已婚   20    公司     7      无   无防盗装置     国产   \n",
       "...       ...  ...    ...     ...  ...   ...   ...    ...     ...    ...   \n",
       "4228      1.8   22      女      未婚    0    私人     1      有   有防盗装置     国产   \n",
       "4229      2.5   22      男      未婚    0    私人     1      有   无防盗装置     进口   \n",
       "4230      1.8   21      男      未婚    0    私人     1      有   无防盗装置     国产   \n",
       "4231      1.8   21      女      未婚    0    私人     1      有   无防盗装置     进口   \n",
       "4232      2.4   21      女      未婚    0    私人     1      有   无防盗装置     进口   \n",
       "\n",
       "        Loss  \n",
       "0        0.0  \n",
       "1        0.0  \n",
       "2        0.0  \n",
       "3        0.0  \n",
       "4        0.0  \n",
       "...      ...  \n",
       "4228   976.0  \n",
       "4229   855.6  \n",
       "4230     0.0  \n",
       "4231  3328.0  \n",
       "4232  1564.0  \n",
       "\n",
       "[4233 rows x 11 columns]"
      ]
     },
     "execution_count": 1,
     "metadata": {},
     "output_type": "execute_result"
    }
   ],
   "source": [
    "import pandas as pd\n",
    "\n",
    "df = pd.read_csv(r'D:\\Jupyter\\Data\\auto_ins.csv',encoding='gb2312')\n",
    "df"
   ]
  },
  {
   "cell_type": "markdown",
   "metadata": {},
   "source": [
    "#### 等宽离散化"
   ]
  },
  {
   "cell_type": "code",
   "execution_count": 53,
   "metadata": {
    "scrolled": true
   },
   "outputs": [
    {
     "data": {
      "text/plain": [
       "中青年    2431\n",
       "青年      890\n",
       "中年      823\n",
       "中老年      89\n",
       "Name: Age, dtype: int64"
      ]
     },
     "execution_count": 53,
     "metadata": {},
     "output_type": "execute_result"
    }
   ],
   "source": [
    "age_cut = pd.cut(df['Age'],4,labels=['青年','中青年','中年','中老年'])\n",
    "age_cut.value_counts()"
   ]
  },
  {
   "cell_type": "markdown",
   "metadata": {},
   "source": [
    "#### 指定范围离散化"
   ]
  },
  {
   "cell_type": "markdown",
   "metadata": {},
   "source": [
    "cut默认为左开右闭区间"
   ]
  },
  {
   "cell_type": "code",
   "execution_count": 74,
   "metadata": {},
   "outputs": [
    {
     "data": {
      "text/plain": [
       "中年     3427\n",
       "青年      579\n",
       "中老年     211\n",
       "老年       16\n",
       "Name: Age, dtype: int64"
      ]
     },
     "execution_count": 74,
     "metadata": {},
     "output_type": "execute_result"
    }
   ],
   "source": [
    "age_cut = pd.cut(df['Age'],[df['Age'].min()-1,30,50,60,df['Age'].max()],labels=['青年','中年','中老年','老年'])\n",
    "age_cut.value_counts()"
   ]
  },
  {
   "cell_type": "markdown",
   "metadata": {},
   "source": [
    "#### 等频离散化"
   ]
  },
  {
   "cell_type": "code",
   "execution_count": 47,
   "metadata": {
    "scrolled": true
   },
   "outputs": [
    {
     "data": {
      "text/plain": [
       "中青年    1146\n",
       "青年     1105\n",
       "中老年    1020\n",
       "中年      962\n",
       "Name: Age, dtype: int64"
      ]
     },
     "execution_count": 47,
     "metadata": {},
     "output_type": "execute_result"
    }
   ],
   "source": [
    "age_qcut = pd.qcut(df['Age'],4,labels=['青年','中青年','中年','中老年'])\n",
    "age_qcut.value_counts()"
   ]
  },
  {
   "cell_type": "code",
   "execution_count": 75,
   "metadata": {},
   "outputs": [
    {
     "data": {
      "text/plain": [
       "中青年    949\n",
       "中年     930\n",
       "青年     890\n",
       "老年     791\n",
       "中老年    673\n",
       "Name: Age, dtype: int64"
      ]
     },
     "execution_count": 75,
     "metadata": {},
     "output_type": "execute_result"
    }
   ],
   "source": [
    "age_frecut = pd.qcut(df['Age'],5,labels=['青年','中青年','中年','中老年','老年'])\n",
    "age_frecut.value_counts()"
   ]
  },
  {
   "cell_type": "code",
   "execution_count": 76,
   "metadata": {},
   "outputs": [],
   "source": [
    "?pd.qcut"
   ]
  }
 ],
 "metadata": {
  "kernelspec": {
   "display_name": "Python 3",
   "language": "python",
   "name": "python3"
  },
  "language_info": {
   "codemirror_mode": {
    "name": "ipython",
    "version": 3
   },
   "file_extension": ".py",
   "mimetype": "text/x-python",
   "name": "python",
   "nbconvert_exporter": "python",
   "pygments_lexer": "ipython3",
   "version": "3.7.4"
  }
 },
 "nbformat": 4,
 "nbformat_minor": 2
}
