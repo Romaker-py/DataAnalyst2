{
 "cells": [
  {
   "cell_type": "markdown",
   "metadata": {},
   "source": [
    "### 方法一：字符串外+变量【不推荐】"
   ]
  },
  {
   "cell_type": "markdown",
   "metadata": {},
   "source": [
    "注意：该方法会在内存开辟多块内存空间，效率低下，请尽量避免使用。"
   ]
  },
  {
   "cell_type": "code",
   "execution_count": 16,
   "metadata": {},
   "outputs": [
    {
     "name": "stdout",
     "output_type": "stream",
     "text": [
      "My name is Romaker.\n"
     ]
    }
   ],
   "source": [
    "name = 'Romaker'\n",
    "print('My name is ' + name + '.')"
   ]
  },
  {
   "cell_type": "markdown",
   "metadata": {},
   "source": [
    "### 方法二：%字符串 %变量"
   ]
  },
  {
   "cell_type": "code",
   "execution_count": 20,
   "metadata": {},
   "outputs": [
    {
     "name": "stdout",
     "output_type": "stream",
     "text": [
      "My name is Romaker.\n"
     ]
    }
   ],
   "source": [
    "name = 'Romaker'\n",
    "print('My name is %s.' % name)"
   ]
  },
  {
   "cell_type": "markdown",
   "metadata": {},
   "source": [
    "注意：当超过一个变量时，所有变量需要放到括号里面。"
   ]
  },
  {
   "cell_type": "code",
   "execution_count": 18,
   "metadata": {
    "scrolled": true
   },
   "outputs": [
    {
     "name": "stdout",
     "output_type": "stream",
     "text": [
      "My name is ZhangSan ,my age is 25\n"
     ]
    }
   ],
   "source": [
    "name = 'ZhangSan'\n",
    "age = 25\n",
    "print('My name is %s ,my age is %s' % (name, age))"
   ]
  },
  {
   "cell_type": "markdown",
   "metadata": {},
   "source": [
    "当变量为整数时，可以使用%s，也可以使用%d来表示。"
   ]
  },
  {
   "cell_type": "markdown",
   "metadata": {},
   "source": [
    "##### 占位符类型"
   ]
  },
  {
   "cell_type": "markdown",
   "metadata": {},
   "source": [
    "%s既可以表示字符串str，还可以表示整数int，浮点数float；\n",
    "\n",
    "%d既可以表示整数int，还可以表示浮点数float(去除整数部分)；\n",
    "\n",
    "%f既可以表示浮点数float，还可以表示整数int(默认保留6位小数)【注意:若想自主保留n位小数,可将其表示位%.nf】\n",
    "\n",
    "%r采用repr()显示字符串。"
   ]
  },
  {
   "cell_type": "markdown",
   "metadata": {},
   "source": [
    "### 方法三：format()函数"
   ]
  },
  {
   "cell_type": "markdown",
   "metadata": {},
   "source": [
    "##### 方式一【多个变量时，可读性最高】"
   ]
  },
  {
   "cell_type": "code",
   "execution_count": 8,
   "metadata": {},
   "outputs": [
    {
     "name": "stdout",
     "output_type": "stream",
     "text": [
      "My name is ZhangSan,I'am 25 years old.\n"
     ]
    }
   ],
   "source": [
    "name = 'ZhangSan'\n",
    "age = '25'\n",
    "content = 'My name is {name},I\\'am {age} years old.'.format(name=name,age=age)\n",
    "print(content)"
   ]
  },
  {
   "cell_type": "markdown",
   "metadata": {},
   "source": [
    "##### 方式二"
   ]
  },
  {
   "cell_type": "code",
   "execution_count": 7,
   "metadata": {},
   "outputs": [
    {
     "name": "stdout",
     "output_type": "stream",
     "text": [
      "My name is ZhangSan,I'am 25 years old.\n"
     ]
    }
   ],
   "source": [
    "name = 'ZhangSan'\n",
    "age = '25'\n",
    "content = 'My name is {0},I\\'am {1} years old.'.format(name,age)\n",
    "print(content)"
   ]
  },
  {
   "cell_type": "markdown",
   "metadata": {},
   "source": [
    "##### 方式三"
   ]
  },
  {
   "cell_type": "code",
   "execution_count": 1,
   "metadata": {},
   "outputs": [
    {
     "name": "stdout",
     "output_type": "stream",
     "text": [
      "My name is ZhangSan,I'am 25 years old.\n"
     ]
    }
   ],
   "source": [
    "name = 'ZhangSan'\n",
    "age = '25'\n",
    "content = 'My name is {},I\\'am {} years old.'.format(name,age)\n",
    "print(content)"
   ]
  },
  {
   "cell_type": "markdown",
   "metadata": {},
   "source": [
    "## 总结"
   ]
  },
  {
   "cell_type": "markdown",
   "metadata": {},
   "source": [
    "1、当只有一个变量时，建议使用%，方便快捷；"
   ]
  },
  {
   "cell_type": "markdown",
   "metadata": {},
   "source": [
    "2、当有多个变量时，或者字符串里面也包含百分号，建议使用format函数，可读性更高。"
   ]
  },
  {
   "cell_type": "markdown",
   "metadata": {},
   "source": [
    "##### 学习链接："
   ]
  },
  {
   "cell_type": "markdown",
   "metadata": {},
   "source": [
    "python字符串中插入变量的三种方法：https://blog.csdn.net/JessePinkmen/article/details/83002346"
   ]
  },
  {
   "cell_type": "markdown",
   "metadata": {},
   "source": [
    "python中在字符串嵌入变量的4种方法：https://blog.csdn.net/weixin_39274753/article/details/81660887"
   ]
  }
 ],
 "metadata": {
  "kernelspec": {
   "display_name": "Python 3",
   "language": "python",
   "name": "python3"
  },
  "language_info": {
   "codemirror_mode": {
    "name": "ipython",
    "version": 3
   },
   "file_extension": ".py",
   "mimetype": "text/x-python",
   "name": "python",
   "nbconvert_exporter": "python",
   "pygments_lexer": "ipython3",
   "version": "3.7.6"
  }
 },
 "nbformat": 4,
 "nbformat_minor": 2
}
