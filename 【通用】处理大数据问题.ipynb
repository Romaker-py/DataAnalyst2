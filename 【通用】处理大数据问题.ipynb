{
 "cells": [
  {
   "cell_type": "markdown",
   "metadata": {},
   "source": [
    "### 一、使用Python Pandas处理亿级数据"
   ]
  },
  {
   "cell_type": "markdown",
   "metadata": {},
   "source": [
    "使用Python Pandas处理亿级数据：http://www.justinablog.com/archives/1357"
   ]
  },
  {
   "cell_type": "markdown",
   "metadata": {},
   "source": [
    "### 二、处理大数据内存问题"
   ]
  },
  {
   "cell_type": "markdown",
   "metadata": {},
   "source": [
    "#### 学习链接"
   ]
  },
  {
   "cell_type": "markdown",
   "metadata": {},
   "source": [
    "缓解pandas中DataFrame占用内存过大的问题：\n",
    "https://www.jianshu.com/p/d54fc84f3b42"
   ]
  },
  {
   "cell_type": "markdown",
   "metadata": {},
   "source": [
    "【精心解读】用pandas处理大数据——节省90%内存消耗的小贴士：\n",
    "https://www.sohu.com/a/164793784_505915"
   ]
  }
 ],
 "metadata": {
  "kernelspec": {
   "display_name": "Python 3",
   "language": "python",
   "name": "python3"
  },
  "language_info": {
   "codemirror_mode": {
    "name": "ipython",
    "version": 3
   },
   "file_extension": ".py",
   "mimetype": "text/x-python",
   "name": "python",
   "nbconvert_exporter": "python",
   "pygments_lexer": "ipython3",
   "version": "3.7.6"
  }
 },
 "nbformat": 4,
 "nbformat_minor": 2
}
