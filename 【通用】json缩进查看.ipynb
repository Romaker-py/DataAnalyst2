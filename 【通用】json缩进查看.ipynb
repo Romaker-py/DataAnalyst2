{
 "cells": [
  {
   "cell_type": "markdown",
   "metadata": {},
   "source": [
    "### 建议借用第三方工具进行自动缩进"
   ]
  },
  {
   "cell_type": "markdown",
   "metadata": {},
   "source": [
    "##### 参考链接："
   ]
  },
  {
   "cell_type": "markdown",
   "metadata": {},
   "source": [
    "Notepad++格式化JSON：https://jingyan.baidu.com/article/5225f26baffaf3e6fb090877.html"
   ]
  },
  {
   "cell_type": "markdown",
   "metadata": {},
   "source": [
    "值得注意的是：json数据需要在浏览器中Ctrl+A全选复制，然后粘贴到Notepad++上，使用JSON Viewer查看即可。"
   ]
  }
 ],
 "metadata": {
  "kernelspec": {
   "display_name": "Python 3",
   "language": "python",
   "name": "python3"
  },
  "language_info": {
   "codemirror_mode": {
    "name": "ipython",
    "version": 3
   },
   "file_extension": ".py",
   "mimetype": "text/x-python",
   "name": "python",
   "nbconvert_exporter": "python",
   "pygments_lexer": "ipython3",
   "version": "3.7.4"
  }
 },
 "nbformat": 4,
 "nbformat_minor": 2
}
