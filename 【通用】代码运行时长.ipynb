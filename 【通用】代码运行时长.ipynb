{
 "cells": [
  {
   "cell_type": "code",
   "execution_count": 4,
   "metadata": {},
   "outputs": [
    {
     "name": "stdout",
     "output_type": "stream",
     "text": [
      "【耗时情况】\n",
      "开始时间：2020年04月20日 15时00分27秒\n",
      "结束时间：2020年04月20日 15时00分37秒\n",
      "总耗时为：0:00:10.001150\n"
     ]
    }
   ],
   "source": [
    "from datetime import datetime\n",
    "\n",
    "# 开始计时\n",
    "start_time = datetime.now()\n",
    "start_time_str = start_time.strftime(\"%Y{}%m{}%d{} %H{}%M{}%S{}\").format('年','月','日','时','分','秒')\n",
    "\n",
    "\n",
    "'''\n",
    "代码块\n",
    "'''\n",
    "import time\n",
    "time.sleep(10)\n",
    "\n",
    "\n",
    "# 结束计时\n",
    "end_time = datetime.now()\n",
    "end_time_str = end_time.strftime(\"%Y{}%m{}%d{} %H{}%M{}%S{}\").format('年','月','日','时','分','秒')\n",
    "total_time = end_time - start_time\n",
    "\n",
    "# 提醒总耗时\n",
    "print('【耗时情况】')\n",
    "print('开始时间：%s' %start_time_str)\n",
    "print('结束时间：%s' %end_time_str)\n",
    "print('总耗时为：%s' %total_time)"
   ]
  }
 ],
 "metadata": {
  "kernelspec": {
   "display_name": "Python 3",
   "language": "python",
   "name": "python3"
  },
  "language_info": {
   "codemirror_mode": {
    "name": "ipython",
    "version": 3
   },
   "file_extension": ".py",
   "mimetype": "text/x-python",
   "name": "python",
   "nbconvert_exporter": "python",
   "pygments_lexer": "ipython3",
   "version": "3.7.6"
  }
 },
 "nbformat": 4,
 "nbformat_minor": 4
}
