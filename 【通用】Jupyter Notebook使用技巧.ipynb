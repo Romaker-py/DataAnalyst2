{
 "cells": [
  {
   "cell_type": "markdown",
   "metadata": {},
   "source": [
    "### 一、常用快捷键"
   ]
  },
  {
   "cell_type": "markdown",
   "metadata": {},
   "source": [
    "转化成Markdown：M\n",
    "\n",
    "转化成输入：Y"
   ]
  },
  {
   "cell_type": "markdown",
   "metadata": {},
   "source": [
    "前面插入Cell：A\n",
    "\n",
    "后面插入Cell：B"
   ]
  },
  {
   "cell_type": "markdown",
   "metadata": {},
   "source": [
    "删除当前Cell：DD    （连续按下两次字母D）"
   ]
  },
  {
   "cell_type": "markdown",
   "metadata": {},
   "source": [
    "运行当前Cell：Ctrl+Enter\n",
    "\n",
    "运行当前Cell并调到下一个Cell：Shift+Enter"
   ]
  },
  {
   "cell_type": "markdown",
   "metadata": {},
   "source": [
    "退出当前Cell：Esc\n",
    "\n",
    "保存：Ctrl+S"
   ]
  },
  {
   "cell_type": "markdown",
   "metadata": {},
   "source": [
    "复制选中Cell：C\n",
    "\n",
    "粘贴在选中Cell下面：V"
   ]
  },
  {
   "cell_type": "markdown",
   "metadata": {},
   "source": [
    "# 一级标题：1"
   ]
  },
  {
   "cell_type": "markdown",
   "metadata": {},
   "source": [
    "## 二级标题：2"
   ]
  },
  {
   "cell_type": "markdown",
   "metadata": {},
   "source": [
    "### 三级标题：3"
   ]
  },
  {
   "cell_type": "markdown",
   "metadata": {},
   "source": [
    "#### 四级标题：4"
   ]
  },
  {
   "cell_type": "markdown",
   "metadata": {},
   "source": [
    "##### 五级标题：5"
   ]
  },
  {
   "cell_type": "markdown",
   "metadata": {},
   "source": [
    "###### 六级标题：6"
   ]
  },
  {
   "cell_type": "markdown",
   "metadata": {},
   "source": [
    "### 二、标记"
   ]
  },
  {
   "cell_type": "markdown",
   "metadata": {},
   "source": [
    "1、标题"
   ]
  },
  {
   "cell_type": "markdown",
   "metadata": {},
   "source": [
    "2、Markdown"
   ]
  },
  {
   "cell_type": "markdown",
   "metadata": {},
   "source": [
    "3、项目符（Markdown状态输入： - ）"
   ]
  },
  {
   "cell_type": "markdown",
   "metadata": {},
   "source": [
    " - 项目符"
   ]
  },
  {
   "cell_type": "markdown",
   "metadata": {},
   "source": [
    " - 项目1\n",
    " - 项目2"
   ]
  },
  {
   "cell_type": "markdown",
   "metadata": {},
   "source": [
    "4、斜体（Markdown状态输入：* *或_ _）"
   ]
  },
  {
   "cell_type": "markdown",
   "metadata": {},
   "source": [
    "*这是斜体字*"
   ]
  },
  {
   "cell_type": "markdown",
   "metadata": {},
   "source": [
    "_这也是斜体_"
   ]
  },
  {
   "cell_type": "markdown",
   "metadata": {},
   "source": [
    "5、加粗（Markdown状态输入：** **或__ __）"
   ]
  },
  {
   "cell_type": "markdown",
   "metadata": {},
   "source": [
    "**这是加粗字体**\n",
    "\n",
    "__这也是加粗字体__"
   ]
  },
  {
   "cell_type": "markdown",
   "metadata": {},
   "source": [
    "6、加粗斜体（Markdown状态输入：*** ***（三个星号）或___ ___）"
   ]
  },
  {
   "cell_type": "markdown",
   "metadata": {},
   "source": [
    "***这是加粗斜体***"
   ]
  },
  {
   "cell_type": "markdown",
   "metadata": {},
   "source": [
    "___这也是加粗斜体___"
   ]
  },
  {
   "cell_type": "markdown",
   "metadata": {},
   "source": [
    "4、专有名词（Markdown状态输入抑音符：``）"
   ]
  },
  {
   "cell_type": "markdown",
   "metadata": {},
   "source": [
    "`专有名词`"
   ]
  },
  {
   "cell_type": "markdown",
   "metadata": {},
   "source": [
    "5、删除线（Markdown状态输入：~~）"
   ]
  },
  {
   "cell_type": "markdown",
   "metadata": {},
   "source": [
    "~这里是被删掉的文字~"
   ]
  },
  {
   "cell_type": "markdown",
   "metadata": {},
   "source": [
    "6、分隔线（Markdown状态输入：---或***）"
   ]
  },
  {
   "cell_type": "markdown",
   "metadata": {},
   "source": [
    "---"
   ]
  },
  {
   "cell_type": "markdown",
   "metadata": {},
   "source": [
    "***"
   ]
  },
  {
   "cell_type": "markdown",
   "metadata": {},
   "source": [
    "### 三、换行"
   ]
  },
  {
   "cell_type": "markdown",
   "metadata": {},
   "source": [
    "Markdown状态下，回车并不能出现换行的效果，需要空一行才能显示换行效果。\n",
    "\n",
    "就像这样子。"
   ]
  },
  {
   "cell_type": "markdown",
   "metadata": {},
   "source": [
    "它跟使用两个Cell来换行还是有行距差异的（两个Cell换行更宽些）。"
   ]
  },
  {
   "cell_type": "markdown",
   "metadata": {},
   "source": [
    "### 四、显示"
   ]
  },
  {
   "cell_type": "markdown",
   "metadata": {},
   "source": [
    "编辑框显示代码行号："
   ]
  },
  {
   "cell_type": "markdown",
   "metadata": {},
   "source": [
    "点击View-->点击Toggle Line Numbers"
   ]
  }
 ],
 "metadata": {
  "kernelspec": {
   "display_name": "Python 3",
   "language": "python",
   "name": "python3"
  },
  "language_info": {
   "codemirror_mode": {
    "name": "ipython",
    "version": 3
   },
   "file_extension": ".py",
   "mimetype": "text/x-python",
   "name": "python",
   "nbconvert_exporter": "python",
   "pygments_lexer": "ipython3",
   "version": "3.7.6"
  }
 },
 "nbformat": 4,
 "nbformat_minor": 4
}
