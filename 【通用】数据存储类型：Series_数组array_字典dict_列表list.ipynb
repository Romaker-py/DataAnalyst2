{
 "cells": [
  {
   "cell_type": "code",
   "execution_count": 1,
   "metadata": {
    "scrolled": true
   },
   "outputs": [
    {
     "data": {
      "text/html": [
       "<div>\n",
       "<style scoped>\n",
       "    .dataframe tbody tr th:only-of-type {\n",
       "        vertical-align: middle;\n",
       "    }\n",
       "\n",
       "    .dataframe tbody tr th {\n",
       "        vertical-align: top;\n",
       "    }\n",
       "\n",
       "    .dataframe thead th {\n",
       "        text-align: right;\n",
       "    }\n",
       "</style>\n",
       "<table border=\"1\" class=\"dataframe\">\n",
       "  <thead>\n",
       "    <tr style=\"text-align: right;\">\n",
       "      <th></th>\n",
       "      <th>EngSize</th>\n",
       "      <th>Age</th>\n",
       "      <th>Gender</th>\n",
       "      <th>Marital</th>\n",
       "      <th>exp</th>\n",
       "      <th>Owner</th>\n",
       "      <th>vAge</th>\n",
       "      <th>Garage</th>\n",
       "      <th>AntiTFD</th>\n",
       "      <th>import</th>\n",
       "      <th>Loss</th>\n",
       "    </tr>\n",
       "  </thead>\n",
       "  <tbody>\n",
       "    <tr>\n",
       "      <th>0</th>\n",
       "      <td>2.0</td>\n",
       "      <td>56</td>\n",
       "      <td>男</td>\n",
       "      <td>已婚</td>\n",
       "      <td>20</td>\n",
       "      <td>公司</td>\n",
       "      <td>10</td>\n",
       "      <td>有</td>\n",
       "      <td>有防盗装置</td>\n",
       "      <td>进口</td>\n",
       "      <td>0.0</td>\n",
       "    </tr>\n",
       "    <tr>\n",
       "      <th>1</th>\n",
       "      <td>1.8</td>\n",
       "      <td>41</td>\n",
       "      <td>男</td>\n",
       "      <td>已婚</td>\n",
       "      <td>20</td>\n",
       "      <td>公司</td>\n",
       "      <td>9</td>\n",
       "      <td>有</td>\n",
       "      <td>无防盗装置</td>\n",
       "      <td>国产</td>\n",
       "      <td>0.0</td>\n",
       "    </tr>\n",
       "    <tr>\n",
       "      <th>2</th>\n",
       "      <td>2.0</td>\n",
       "      <td>44</td>\n",
       "      <td>男</td>\n",
       "      <td>未婚</td>\n",
       "      <td>20</td>\n",
       "      <td>公司</td>\n",
       "      <td>8</td>\n",
       "      <td>有</td>\n",
       "      <td>有防盗装置</td>\n",
       "      <td>国产</td>\n",
       "      <td>0.0</td>\n",
       "    </tr>\n",
       "    <tr>\n",
       "      <th>3</th>\n",
       "      <td>1.6</td>\n",
       "      <td>56</td>\n",
       "      <td>男</td>\n",
       "      <td>已婚</td>\n",
       "      <td>20</td>\n",
       "      <td>公司</td>\n",
       "      <td>7</td>\n",
       "      <td>有</td>\n",
       "      <td>有防盗装置</td>\n",
       "      <td>国产</td>\n",
       "      <td>0.0</td>\n",
       "    </tr>\n",
       "    <tr>\n",
       "      <th>4</th>\n",
       "      <td>1.8</td>\n",
       "      <td>45</td>\n",
       "      <td>男</td>\n",
       "      <td>已婚</td>\n",
       "      <td>20</td>\n",
       "      <td>公司</td>\n",
       "      <td>7</td>\n",
       "      <td>无</td>\n",
       "      <td>无防盗装置</td>\n",
       "      <td>国产</td>\n",
       "      <td>0.0</td>\n",
       "    </tr>\n",
       "    <tr>\n",
       "      <th>...</th>\n",
       "      <td>...</td>\n",
       "      <td>...</td>\n",
       "      <td>...</td>\n",
       "      <td>...</td>\n",
       "      <td>...</td>\n",
       "      <td>...</td>\n",
       "      <td>...</td>\n",
       "      <td>...</td>\n",
       "      <td>...</td>\n",
       "      <td>...</td>\n",
       "      <td>...</td>\n",
       "    </tr>\n",
       "    <tr>\n",
       "      <th>4228</th>\n",
       "      <td>1.8</td>\n",
       "      <td>22</td>\n",
       "      <td>女</td>\n",
       "      <td>未婚</td>\n",
       "      <td>0</td>\n",
       "      <td>私人</td>\n",
       "      <td>1</td>\n",
       "      <td>有</td>\n",
       "      <td>有防盗装置</td>\n",
       "      <td>国产</td>\n",
       "      <td>976.0</td>\n",
       "    </tr>\n",
       "    <tr>\n",
       "      <th>4229</th>\n",
       "      <td>2.5</td>\n",
       "      <td>22</td>\n",
       "      <td>男</td>\n",
       "      <td>未婚</td>\n",
       "      <td>0</td>\n",
       "      <td>私人</td>\n",
       "      <td>1</td>\n",
       "      <td>有</td>\n",
       "      <td>无防盗装置</td>\n",
       "      <td>进口</td>\n",
       "      <td>855.6</td>\n",
       "    </tr>\n",
       "    <tr>\n",
       "      <th>4230</th>\n",
       "      <td>1.8</td>\n",
       "      <td>21</td>\n",
       "      <td>男</td>\n",
       "      <td>未婚</td>\n",
       "      <td>0</td>\n",
       "      <td>私人</td>\n",
       "      <td>1</td>\n",
       "      <td>有</td>\n",
       "      <td>无防盗装置</td>\n",
       "      <td>国产</td>\n",
       "      <td>0.0</td>\n",
       "    </tr>\n",
       "    <tr>\n",
       "      <th>4231</th>\n",
       "      <td>1.8</td>\n",
       "      <td>21</td>\n",
       "      <td>女</td>\n",
       "      <td>未婚</td>\n",
       "      <td>0</td>\n",
       "      <td>私人</td>\n",
       "      <td>1</td>\n",
       "      <td>有</td>\n",
       "      <td>无防盗装置</td>\n",
       "      <td>进口</td>\n",
       "      <td>3328.0</td>\n",
       "    </tr>\n",
       "    <tr>\n",
       "      <th>4232</th>\n",
       "      <td>2.4</td>\n",
       "      <td>21</td>\n",
       "      <td>女</td>\n",
       "      <td>未婚</td>\n",
       "      <td>0</td>\n",
       "      <td>私人</td>\n",
       "      <td>1</td>\n",
       "      <td>有</td>\n",
       "      <td>无防盗装置</td>\n",
       "      <td>进口</td>\n",
       "      <td>1564.0</td>\n",
       "    </tr>\n",
       "  </tbody>\n",
       "</table>\n",
       "<p>4233 rows × 11 columns</p>\n",
       "</div>"
      ],
      "text/plain": [
       "      EngSize  Age Gender Marital  exp Owner  vAge Garage AntiTFD import  \\\n",
       "0         2.0   56      男      已婚   20    公司    10      有   有防盗装置     进口   \n",
       "1         1.8   41      男      已婚   20    公司     9      有   无防盗装置     国产   \n",
       "2         2.0   44      男      未婚   20    公司     8      有   有防盗装置     国产   \n",
       "3         1.6   56      男      已婚   20    公司     7      有   有防盗装置     国产   \n",
       "4         1.8   45      男      已婚   20    公司     7      无   无防盗装置     国产   \n",
       "...       ...  ...    ...     ...  ...   ...   ...    ...     ...    ...   \n",
       "4228      1.8   22      女      未婚    0    私人     1      有   有防盗装置     国产   \n",
       "4229      2.5   22      男      未婚    0    私人     1      有   无防盗装置     进口   \n",
       "4230      1.8   21      男      未婚    0    私人     1      有   无防盗装置     国产   \n",
       "4231      1.8   21      女      未婚    0    私人     1      有   无防盗装置     进口   \n",
       "4232      2.4   21      女      未婚    0    私人     1      有   无防盗装置     进口   \n",
       "\n",
       "        Loss  \n",
       "0        0.0  \n",
       "1        0.0  \n",
       "2        0.0  \n",
       "3        0.0  \n",
       "4        0.0  \n",
       "...      ...  \n",
       "4228   976.0  \n",
       "4229   855.6  \n",
       "4230     0.0  \n",
       "4231  3328.0  \n",
       "4232  1564.0  \n",
       "\n",
       "[4233 rows x 11 columns]"
      ]
     },
     "execution_count": 1,
     "metadata": {},
     "output_type": "execute_result"
    }
   ],
   "source": [
    "import pandas as pd\n",
    "\n",
    "df = pd.read_csv(r'D:\\Jupyter\\Data\\auto_ins.csv',encoding='gb2312')\n",
    "df"
   ]
  },
  {
   "cell_type": "markdown",
   "metadata": {},
   "source": [
    "### 一、Series"
   ]
  },
  {
   "cell_type": "markdown",
   "metadata": {},
   "source": [
    "Series包含索引index和值values【DataFrame的列就是Series】"
   ]
  },
  {
   "cell_type": "code",
   "execution_count": 2,
   "metadata": {
    "scrolled": true
   },
   "outputs": [
    {
     "data": {
      "text/plain": [
       "pandas.core.series.Series"
      ]
     },
     "execution_count": 2,
     "metadata": {},
     "output_type": "execute_result"
    }
   ],
   "source": [
    "type(df['Age'])"
   ]
  },
  {
   "cell_type": "code",
   "execution_count": 13,
   "metadata": {},
   "outputs": [
    {
     "data": {
      "text/plain": [
       "RangeIndex(start=0, stop=4233, step=1)"
      ]
     },
     "execution_count": 13,
     "metadata": {},
     "output_type": "execute_result"
    }
   ],
   "source": [
    "df['Age'].index"
   ]
  },
  {
   "cell_type": "code",
   "execution_count": 3,
   "metadata": {
    "scrolled": true
   },
   "outputs": [
    {
     "data": {
      "text/plain": [
       "0       56\n",
       "1       41\n",
       "2       44\n",
       "3       56\n",
       "4       45\n",
       "        ..\n",
       "4228    22\n",
       "4229    22\n",
       "4230    21\n",
       "4231    21\n",
       "4232    21\n",
       "Name: Age, Length: 4233, dtype: int64"
      ]
     },
     "execution_count": 3,
     "metadata": {},
     "output_type": "execute_result"
    }
   ],
   "source": [
    "df['Age']"
   ]
  },
  {
   "cell_type": "markdown",
   "metadata": {},
   "source": [
    "### 二、array数组"
   ]
  },
  {
   "cell_type": "markdown",
   "metadata": {},
   "source": [
    "【DataFrame一个字段的values就是一个array数组】"
   ]
  },
  {
   "cell_type": "code",
   "execution_count": 10,
   "metadata": {
    "scrolled": true
   },
   "outputs": [
    {
     "data": {
      "text/plain": [
       "array([56, 41, 44, ..., 21, 21, 21], dtype=int64)"
      ]
     },
     "execution_count": 10,
     "metadata": {},
     "output_type": "execute_result"
    }
   ],
   "source": [
    "df['Age'].values"
   ]
  },
  {
   "cell_type": "markdown",
   "metadata": {},
   "source": [
    "转成array数组形式"
   ]
  },
  {
   "cell_type": "code",
   "execution_count": 3,
   "metadata": {},
   "outputs": [
    {
     "data": {
      "text/plain": [
       "Index(['EngSize', 'Age', 'Gender', 'Marital', 'exp', 'Owner', 'vAge', 'Garage',\n",
       "       'AntiTFD', 'import', 'Loss'],\n",
       "      dtype='object')"
      ]
     },
     "execution_count": 3,
     "metadata": {},
     "output_type": "execute_result"
    }
   ],
   "source": [
    "df.columns"
   ]
  },
  {
   "cell_type": "code",
   "execution_count": 4,
   "metadata": {
    "scrolled": true
   },
   "outputs": [
    {
     "data": {
      "text/plain": [
       "array(['EngSize', 'Age', 'Gender', 'Marital', 'exp', 'Owner', 'vAge',\n",
       "       'Garage', 'AntiTFD', 'import', 'Loss'], dtype=object)"
      ]
     },
     "execution_count": 4,
     "metadata": {},
     "output_type": "execute_result"
    }
   ],
   "source": [
    "import numpy as np\n",
    "np.array(df.columns)"
   ]
  },
  {
   "cell_type": "markdown",
   "metadata": {},
   "source": [
    "array转成Series"
   ]
  },
  {
   "cell_type": "code",
   "execution_count": 4,
   "metadata": {},
   "outputs": [
    {
     "data": {
      "text/plain": [
       "0       56\n",
       "1       41\n",
       "2       44\n",
       "3       56\n",
       "4       45\n",
       "        ..\n",
       "4228    22\n",
       "4229    22\n",
       "4230    21\n",
       "4231    21\n",
       "4232    21\n",
       "Length: 4233, dtype: int64"
      ]
     },
     "execution_count": 4,
     "metadata": {},
     "output_type": "execute_result"
    }
   ],
   "source": [
    "import pandas as pd\n",
    "\n",
    "pd.Series(df['Age'].values)"
   ]
  },
  {
   "cell_type": "markdown",
   "metadata": {},
   "source": [
    "### 三、字典dict"
   ]
  },
  {
   "cell_type": "code",
   "execution_count": 1,
   "metadata": {},
   "outputs": [],
   "source": [
    "cities = {'深圳':'p-city_215'}"
   ]
  },
  {
   "cell_type": "markdown",
   "metadata": {},
   "source": [
    "取值"
   ]
  },
  {
   "cell_type": "code",
   "execution_count": 2,
   "metadata": {
    "scrolled": true
   },
   "outputs": [
    {
     "data": {
      "text/plain": [
       "'p-city_215'"
      ]
     },
     "execution_count": 2,
     "metadata": {},
     "output_type": "execute_result"
    }
   ],
   "source": [
    "cities['深圳']"
   ]
  },
  {
   "cell_type": "code",
   "execution_count": 4,
   "metadata": {},
   "outputs": [],
   "source": [
    "data = {\n",
    "        'first': 'true',\n",
    "        'pn': 'num',\n",
    "        'kd': '数据分析'}"
   ]
  },
  {
   "cell_type": "code",
   "execution_count": 5,
   "metadata": {
    "scrolled": false
   },
   "outputs": [
    {
     "data": {
      "text/plain": [
       "'数据分析'"
      ]
     },
     "execution_count": 5,
     "metadata": {},
     "output_type": "execute_result"
    }
   ],
   "source": [
    "data['kd']"
   ]
  },
  {
   "cell_type": "code",
   "execution_count": 7,
   "metadata": {
    "scrolled": true
   },
   "outputs": [
    {
     "data": {
      "text/plain": [
       "'%E6%95%B0%E6%8D%AE%E5%88%86%E6%9E%90'"
      ]
     },
     "execution_count": 7,
     "metadata": {},
     "output_type": "execute_result"
    }
   ],
   "source": [
    "from urllib import parse\n",
    "parse.quote(data['kd'])"
   ]
  },
  {
   "cell_type": "markdown",
   "metadata": {},
   "source": [
    "### 四、列表list"
   ]
  },
  {
   "cell_type": "code",
   "execution_count": 5,
   "metadata": {
    "scrolled": true
   },
   "outputs": [
    {
     "data": {
      "text/plain": [
       "Index(['EngSize', 'Age', 'Gender', 'Marital', 'exp', 'Owner', 'vAge', 'Garage',\n",
       "       'AntiTFD', 'import', 'Loss'],\n",
       "      dtype='object')"
      ]
     },
     "execution_count": 5,
     "metadata": {},
     "output_type": "execute_result"
    }
   ],
   "source": [
    "df.columns"
   ]
  },
  {
   "cell_type": "markdown",
   "metadata": {},
   "source": [
    "转换成list【当array转成list时，可以理解为行转成列的形式，也可以理解为一维转成多维的形式】"
   ]
  },
  {
   "cell_type": "code",
   "execution_count": 6,
   "metadata": {},
   "outputs": [
    {
     "data": {
      "text/plain": [
       "['EngSize',\n",
       " 'Age',\n",
       " 'Gender',\n",
       " 'Marital',\n",
       " 'exp',\n",
       " 'Owner',\n",
       " 'vAge',\n",
       " 'Garage',\n",
       " 'AntiTFD',\n",
       " 'import',\n",
       " 'Loss']"
      ]
     },
     "execution_count": 6,
     "metadata": {},
     "output_type": "execute_result"
    }
   ],
   "source": [
    "list(df.columns)"
   ]
  }
 ],
 "metadata": {
  "kernelspec": {
   "display_name": "Python 3",
   "language": "python",
   "name": "python3"
  },
  "language_info": {
   "codemirror_mode": {
    "name": "ipython",
    "version": 3
   },
   "file_extension": ".py",
   "mimetype": "text/x-python",
   "name": "python",
   "nbconvert_exporter": "python",
   "pygments_lexer": "ipython3",
   "version": "3.7.6"
  }
 },
 "nbformat": 4,
 "nbformat_minor": 2
}
