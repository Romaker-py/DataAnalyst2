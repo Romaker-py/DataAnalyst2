{
 "cells": [
  {
   "cell_type": "markdown",
   "metadata": {},
   "source": [
    "#### CentOS下载Anaconda很慢"
   ]
  },
  {
   "cell_type": "markdown",
   "metadata": {},
   "source": [
    "解决地址：https://blog.csdn.net/weixin_43848579/article/details/85056157"
   ]
  },
  {
   "cell_type": "markdown",
   "metadata": {},
   "source": [
    "直接访问地址：https://mirrors.tuna.tsinghua.edu.cn/anaconda/archive/?C=M&O=A"
   ]
  },
  {
   "cell_type": "markdown",
   "metadata": {},
   "source": [
    "#### CentOS安装Anaconda"
   ]
  },
  {
   "cell_type": "markdown",
   "metadata": {},
   "source": [
    "安装教程地址：https://blog.csdn.net/jh0218/article/details/85097061?depth_1-utm_source=distribute.pc_relevant.none-task&utm_source=distribute.pc_relevant.none-task"
   ]
  },
  {
   "cell_type": "markdown",
   "metadata": {},
   "source": [
    "#### CentOS安装Chrome浏览器"
   ]
  },
  {
   "cell_type": "markdown",
   "metadata": {},
   "source": [
    "安装教程：https://www.liulanqi.com/12989.html"
   ]
  },
  {
   "cell_type": "markdown",
   "metadata": {},
   "source": [
    "#### CentOS设置远程连接Jupyter"
   ]
  },
  {
   "cell_type": "markdown",
   "metadata": {},
   "source": [
    "解决方案1：https://blog.csdn.net/du_qi/article/details/51427857"
   ]
  },
  {
   "cell_type": "markdown",
   "metadata": {},
   "source": [
    "同步参考2：https://blog.csdn.net/ImAustin/article/details/103179826?depth_1-utm_source=distribute.pc_relevant.none-task&utm_source=distribute.pc_relevant.none-task"
   ]
  },
  {
   "cell_type": "markdown",
   "metadata": {},
   "source": [
    "jupyter notebook 浏览器无法访问：https://blog.csdn.net/martind/article/details/79117830"
   ]
  },
  {
   "cell_type": "markdown",
   "metadata": {},
   "source": [
    "如何在云服务器上设置可远端访问的jupyter notebook：https://www.jianshu.com/p/fff4a61dee7a"
   ]
  },
  {
   "cell_type": "markdown",
   "metadata": {},
   "source": [
    "关闭防火墙可远程访问：https://www.cnblogs.com/Lee-yl/p/10250586.html"
   ]
  },
  {
   "cell_type": "markdown",
   "metadata": {},
   "source": [
    "#### CentOS安装MySQL"
   ]
  },
  {
   "cell_type": "markdown",
   "metadata": {},
   "source": [
    "推荐二进制安装：https://blog.51cto.com/superpcm/2092357"
   ]
  },
  {
   "cell_type": "markdown",
   "metadata": {},
   "source": [
    "【启动错误排查】Starting MySQL.The server quit without updating PID file：https://blog.csdn.net/qq_37358860/article/details/89397447"
   ]
  },
  {
   "cell_type": "markdown",
   "metadata": {},
   "source": [
    "#### CentOS的MySQL设置远程访问"
   ]
  },
  {
   "cell_type": "markdown",
   "metadata": {},
   "source": [
    "远程连接腾讯云的mysql：https://www.cnblogs.com/oldthree3/p/11180214.html"
   ]
  },
  {
   "cell_type": "markdown",
   "metadata": {},
   "source": [
    "#### CentOS安装Spark"
   ]
  },
  {
   "cell_type": "markdown",
   "metadata": {},
   "source": [
    "centos7 单机spark的安装与配置详解：https://www.pianshen.com/article/4962151563/"
   ]
  },
  {
   "cell_type": "markdown",
   "metadata": {},
   "source": [
    "补充安装链接：https://www.cnblogs.com/shaosks/p/9242536.html"
   ]
  }
 ],
 "metadata": {
  "kernelspec": {
   "display_name": "Python 3",
   "language": "python",
   "name": "python3"
  },
  "language_info": {
   "codemirror_mode": {
    "name": "ipython",
    "version": 3
   },
   "file_extension": ".py",
   "mimetype": "text/x-python",
   "name": "python",
   "nbconvert_exporter": "python",
   "pygments_lexer": "ipython3",
   "version": "3.7.6"
  }
 },
 "nbformat": 4,
 "nbformat_minor": 4
}
