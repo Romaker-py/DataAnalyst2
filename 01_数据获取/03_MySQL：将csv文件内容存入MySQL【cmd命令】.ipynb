{
 "cells": [
  {
   "cell_type": "markdown",
   "metadata": {},
   "source": [
    "## 以下内容需要在cmd命令下执行"
   ]
  },
  {
   "cell_type": "markdown",
   "metadata": {},
   "source": [
    "### 需要cmd先登录MySQL，且指定数据库名"
   ]
  },
  {
   "cell_type": "markdown",
   "metadata": {},
   "source": [
    "load data infile 'D:/Python/auto_ins.csv' \n",
    "into table car_loss character set gb18030\n",
    "fields terminated by ',' \n",
    "lines terminated by '\\r\\n'\n",
    "ignore 1 lines;"
   ]
  },
  {
   "cell_type": "markdown",
   "metadata": {},
   "source": [
    "#### 注意：以append形式导入"
   ]
  },
  {
   "cell_type": "markdown",
   "metadata": {},
   "source": [
    "### 错误1：提示secure-file-priv错误无法导入"
   ]
  },
  {
   "cell_type": "markdown",
   "metadata": {},
   "source": [
    "解决方法：https://blog.csdn.net/weixin_44595372/article/details/88723191"
   ]
  },
  {
   "cell_type": "markdown",
   "metadata": {},
   "source": [
    "### 错误2：无法导入空值到整型字段"
   ]
  },
  {
   "cell_type": "markdown",
   "metadata": {},
   "source": [
    "解决方法：https://blog.csdn.net/davika_xiao/article/details/80951516"
   ]
  }
 ],
 "metadata": {
  "kernelspec": {
   "display_name": "Python 3",
   "language": "python",
   "name": "python3"
  },
  "language_info": {
   "codemirror_mode": {
    "name": "ipython",
    "version": 3
   },
   "file_extension": ".py",
   "mimetype": "text/x-python",
   "name": "python",
   "nbconvert_exporter": "python",
   "pygments_lexer": "ipython3",
   "version": "3.7.6"
  }
 },
 "nbformat": 4,
 "nbformat_minor": 2
}
