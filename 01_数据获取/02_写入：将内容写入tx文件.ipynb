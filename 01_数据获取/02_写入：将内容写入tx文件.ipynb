{
 "cells": [
  {
   "cell_type": "markdown",
   "metadata": {},
   "source": [
    "#### np.savetxt( )"
   ]
  },
  {
   "cell_type": "code",
   "execution_count": null,
   "metadata": {},
   "outputs": [],
   "source": [
    "from sklearn.tree.export import export_text\n",
    "import numpy as np\n",
    "\n",
    "t = export_text(clf, feature_names=list(feature_names))    # 注意：此处需要用list形式\n",
    "\n",
    "# 保存到txt文件\n",
    "np.savetxt('D:/satisfyModel.txt', pd.Series(t), fmt='%s')    # fmt指保存格式\n",
    "print(t)"
   ]
  }
 ],
 "metadata": {
  "kernelspec": {
   "display_name": "Python 3",
   "language": "python",
   "name": "python3"
  },
  "language_info": {
   "codemirror_mode": {
    "name": "ipython",
    "version": 3
   },
   "file_extension": ".py",
   "mimetype": "text/x-python",
   "name": "python",
   "nbconvert_exporter": "python",
   "pygments_lexer": "ipython3",
   "version": "3.7.6"
  }
 },
 "nbformat": 4,
 "nbformat_minor": 4
}
